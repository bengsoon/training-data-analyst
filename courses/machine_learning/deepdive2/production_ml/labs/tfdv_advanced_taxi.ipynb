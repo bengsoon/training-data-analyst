{
 "cells": [
  {
   "cell_type": "markdown",
   "metadata": {
    "id": "YuSYVbwEYNHw"
   },
   "source": [
    "# TensorFlow Data Validation (Advanced)"
   ]
  },
  {
   "cell_type": "markdown",
   "metadata": {
    "id": "mPt5BHTwy_0F"
   },
   "source": [
    "## Learning Objectives\n",
    "\n",
    "1. Install TFDV\n",
    "2. Compute and visualize statistics\n",
    "3. Infer a schema\n",
    "4. Check evaluation data for errors\n",
    "5. Check for evaluation anomalies and fix it\n",
    "6. Check for drift and skew\n",
    "7. Freeze the schema\n",
    "\n",
    "\n",
    "\n",
    "## Introduction \n",
    "\n",
    "This notebook illustrates how TensorFlow Data Validation (TFDV) can be used to investigate and visualize your dataset.  That includes looking at descriptive statistics, inferring a schema, checking for and fixing anomalies, and checking for drift and skew in our dataset.  It's important to understand your dataset's characteristics, including how it might change over time in your production pipeline.  It's also important to look for anomalies in your data, and to compare your training, evaluation, and serving datasets to make sure that they're consistent.\n",
    "\n",
    "We'll use data from the [Taxi Trips dataset](https://data.cityofchicago.org/Transportation/Taxi-Trips/wrvz-psew) released by the City of Chicago.\n",
    "\n",
    "Note: This site provides applications using data that has been modified for use from its original source, www.cityofchicago.org, the official website of the City of Chicago. The City of Chicago makes no claims as to the content, accuracy, timeliness, or completeness of any of the data provided at this site. The data provided at this site is subject to change at any time. It is understood that the data provided at this site is being used at one’s own risk.\n",
    "\n",
    "[Read more](https://cloud.google.com/bigquery/public-data/chicago-taxi) about the dataset in [Google BigQuery](https://cloud.google.com/bigquery/). Explore the full dataset in the [BigQuery UI](https://console.cloud.google.com/bigquery?p=bigquery-public-data&d=chicago_taxi_trips&page=dataset).\n",
    "\n",
    "Key Point: As a modeler and developer, think about how this data is used and the potential benefits and harm a model's predictions can cause. A model like this could reinforce societal biases and disparities. Is a feature relevant to the problem you want to solve or will it introduce bias? For more information, read about [ML fairness](https://developers.google.com/machine-learning/fairness-overview/).\n",
    "\n",
    "Each learning objective will correspond to a __#TODO__ in this student lab notebook -- try to complete this notebook first and then review the [Solution Notebook](https://github.com/GoogleCloudPlatform/training-data-analyst/blob/master/courses/machine_learning/deepdive2/production_ml/solutions/tfdv_advanced_taxi.ipynb) for reference. \n"
   ]
  },
  {
   "cell_type": "markdown",
   "metadata": {
    "id": "Fnm6Mj3vTGLm"
   },
   "source": [
    "The columns in the dataset are:\n",
    "<table>\n",
    "<tr><td>pickup_community_area</td><td>fare</td><td>trip_start_month</td></tr>\n",
    "\n",
    "<tr><td>trip_start_hour</td><td>trip_start_day</td><td>trip_start_timestamp</td></tr>\n",
    "<tr><td>pickup_latitude</td><td>pickup_longitude</td><td>dropoff_latitude</td></tr>\n",
    "<tr><td>dropoff_longitude</td><td>trip_miles</td><td>pickup_census_tract</td></tr>\n",
    "<tr><td>dropoff_census_tract</td><td>payment_type</td><td>company</td></tr>\n",
    "<tr><td>trip_seconds</td><td>dropoff_community_area</td><td>tips</td></tr>\n",
    "</table>"
   ]
  },
  {
   "cell_type": "markdown",
   "metadata": {
    "colab_type": "text",
    "id": "AsHg6SD2nO1v"
   },
   "source": [
    "### Install Libraries"
   ]
  },
  {
   "cell_type": "code",
   "execution_count": 1,
   "metadata": {
    "collapsed": true,
    "jupyter": {
     "outputs_hidden": true
    },
    "tags": []
   },
   "outputs": [
    {
     "name": "stdout",
     "output_type": "stream",
     "text": [
      "Collecting pyarrow==5.0.0\n",
      "  Downloading pyarrow-5.0.0-cp37-cp37m-manylinux2014_x86_64.whl (23.6 MB)\n",
      "\u001b[2K     \u001b[90m━━━━━━━━━━━━━━━━━━━━━━━━━━━━━━━━━━━━━━━━\u001b[0m \u001b[32m23.6/23.6 MB\u001b[0m \u001b[31m52.0 MB/s\u001b[0m eta \u001b[36m0:00:00\u001b[0m00:01\u001b[0m00:01\u001b[0m\n",
      "\u001b[?25hRequirement already satisfied: numpy>=1.16.6 in /opt/conda/lib/python3.7/site-packages (from pyarrow==5.0.0) (1.19.5)\n",
      "Installing collected packages: pyarrow\n",
      "  Attempting uninstall: pyarrow\n",
      "    Found existing installation: pyarrow 7.0.0\n",
      "    Uninstalling pyarrow-7.0.0:\n",
      "      Successfully uninstalled pyarrow-7.0.0\n",
      "\u001b[31mERROR: pip's dependency resolver does not currently take into account all the packages that are installed. This behaviour is the source of the following dependency conflicts.\n",
      "tfx-bsl 1.7.0 requires google-api-python-client<2,>=1.7.11, but you have google-api-python-client 2.41.0 which is incompatible.\n",
      "tfx-bsl 1.7.0 requires tensorflow!=2.0.*,!=2.1.*,!=2.2.*,!=2.3.*,!=2.4.*,!=2.5.*,!=2.6.*,!=2.7.*,<3,>=1.15.5, but you have tensorflow 2.6.3 which is incompatible.\n",
      "tensorflow-transform 1.7.0 requires tensorflow!=2.0.*,!=2.1.*,!=2.2.*,!=2.3.*,!=2.4.*,!=2.5.*,!=2.6.*,!=2.7.*,<2.9,>=1.15.5, but you have tensorflow 2.6.3 which is incompatible.\n",
      "apache-beam 2.37.0 requires dill<0.3.2,>=0.3.1.1, but you have dill 0.3.4 which is incompatible.\n",
      "apache-beam 2.37.0 requires httplib2<0.20.0,>=0.8, but you have httplib2 0.20.4 which is incompatible.\u001b[0m\u001b[31m\n",
      "\u001b[0mSuccessfully installed pyarrow-5.0.0\n",
      "Collecting numpy==1.19.2\n",
      "  Downloading numpy-1.19.2-cp37-cp37m-manylinux2010_x86_64.whl (14.5 MB)\n",
      "\u001b[2K     \u001b[90m━━━━━━━━━━━━━━━━━━━━━━━━━━━━━━━━━━━━━━━━\u001b[0m \u001b[32m14.5/14.5 MB\u001b[0m \u001b[31m74.3 MB/s\u001b[0m eta \u001b[36m0:00:00\u001b[0m00:01\u001b[0m00:01\u001b[0m\n",
      "\u001b[?25hInstalling collected packages: numpy\n",
      "  Attempting uninstall: numpy\n",
      "    Found existing installation: numpy 1.19.5\n",
      "    Uninstalling numpy-1.19.5:\n",
      "      Successfully uninstalled numpy-1.19.5\n",
      "\u001b[31mERROR: pip's dependency resolver does not currently take into account all the packages that are installed. This behaviour is the source of the following dependency conflicts.\n",
      "tensorflow-io 0.21.0 requires tensorflow-io-gcs-filesystem==0.21.0, which is not installed.\n",
      "tfx-bsl 1.7.0 requires google-api-python-client<2,>=1.7.11, but you have google-api-python-client 2.41.0 which is incompatible.\n",
      "tfx-bsl 1.7.0 requires tensorflow!=2.0.*,!=2.1.*,!=2.2.*,!=2.3.*,!=2.4.*,!=2.5.*,!=2.6.*,!=2.7.*,<3,>=1.15.5, but you have tensorflow 2.6.3 which is incompatible.\n",
      "tensorflow-transform 1.7.0 requires tensorflow!=2.0.*,!=2.1.*,!=2.2.*,!=2.3.*,!=2.4.*,!=2.5.*,!=2.6.*,!=2.7.*,<2.9,>=1.15.5, but you have tensorflow 2.6.3 which is incompatible.\n",
      "tensorflow-serving-api 2.8.0 requires tensorflow<3,>=2.8.0, but you have tensorflow 2.6.3 which is incompatible.\n",
      "imageio 2.16.1 requires numpy>=1.20.0, but you have numpy 1.19.2 which is incompatible.\n",
      "apache-beam 2.37.0 requires dill<0.3.2,>=0.3.1.1, but you have dill 0.3.4 which is incompatible.\n",
      "apache-beam 2.37.0 requires httplib2<0.20.0,>=0.8, but you have httplib2 0.20.4 which is incompatible.\u001b[0m\u001b[31m\n",
      "\u001b[0mSuccessfully installed numpy-1.19.2\n",
      "Collecting tensorflow-data-validation\n",
      "  Downloading tensorflow_data_validation-1.7.0-cp37-cp37m-manylinux_2_12_x86_64.manylinux2010_x86_64.whl (1.4 MB)\n",
      "\u001b[2K     \u001b[90m━━━━━━━━━━━━━━━━━━━━━━━━━━━━━━━━━━━━━━━━\u001b[0m \u001b[32m1.4/1.4 MB\u001b[0m \u001b[31m27.9 MB/s\u001b[0m eta \u001b[36m0:00:00\u001b[0ma \u001b[36m0:00:01\u001b[0m\n",
      "\u001b[?25hRequirement already satisfied: absl-py<2.0.0,>=0.9 in /opt/conda/lib/python3.7/site-packages (from tensorflow-data-validation) (0.15.0)\n",
      "Requirement already satisfied: apache-beam[gcp]<3,>=2.36 in /opt/conda/lib/python3.7/site-packages (from tensorflow-data-validation) (2.37.0)\n",
      "Requirement already satisfied: pyarrow<6,>=1 in /opt/conda/lib/python3.7/site-packages (from tensorflow-data-validation) (5.0.0)\n",
      "Requirement already satisfied: pandas<2,>=1.0 in /opt/conda/lib/python3.7/site-packages (from tensorflow-data-validation) (1.3.5)\n",
      "Requirement already satisfied: tfx-bsl<1.8,>=1.7.0 in /opt/conda/lib/python3.7/site-packages (from tensorflow-data-validation) (1.7.0)\n",
      "Collecting tensorflow!=2.0.*,!=2.1.*,!=2.2.*,!=2.3.*,!=2.4.*,!=2.5.*,!=2.6.*,!=2.7.*,<3,>=1.15.5\n",
      "  Downloading tensorflow-2.8.0-cp37-cp37m-manylinux2010_x86_64.whl (497.5 MB)\n",
      "\u001b[2K     \u001b[90m━━━━━━━━━━━━━━━━━━━━━━━━━━━━━━━━━━━━━━━\u001b[0m \u001b[32m497.5/497.5 MB\u001b[0m \u001b[31m1.9 MB/s\u001b[0m eta \u001b[36m0:00:00\u001b[0m00:01\u001b[0m00:01\u001b[0m\n",
      "\u001b[?25hRequirement already satisfied: six<2,>=1.12 in /opt/conda/lib/python3.7/site-packages (from tensorflow-data-validation) (1.15.0)\n",
      "Collecting joblib<0.15,>=0.12\n",
      "  Downloading joblib-0.14.1-py2.py3-none-any.whl (294 kB)\n",
      "\u001b[2K     \u001b[90m━━━━━━━━━━━━━━━━━━━━━━━━━━━━━━━━━━━━━━\u001b[0m \u001b[32m294.9/294.9 KB\u001b[0m \u001b[31m36.5 MB/s\u001b[0m eta \u001b[36m0:00:00\u001b[0m\n",
      "\u001b[?25hRequirement already satisfied: protobuf<4,>=3.13 in /opt/conda/lib/python3.7/site-packages (from tensorflow-data-validation) (3.19.4)\n",
      "Requirement already satisfied: tensorflow-metadata<1.8,>=1.7.0 in /opt/conda/lib/python3.7/site-packages (from tensorflow-data-validation) (1.7.0)\n",
      "Collecting pyfarmhash<0.4,>=0.2\n",
      "  Downloading pyfarmhash-0.3.2.tar.gz (99 kB)\n",
      "\u001b[2K     \u001b[90m━━━━━━━━━━━━━━━━━━━━━━━━━━━━━━━━━━━━━━━━\u001b[0m \u001b[32m99.9/99.9 KB\u001b[0m \u001b[31m5.0 MB/s\u001b[0m eta \u001b[36m0:00:00\u001b[0m\n",
      "\u001b[?25h  Preparing metadata (setup.py) ... \u001b[?25ldone\n",
      "\u001b[?25hRequirement already satisfied: numpy<2,>=1.16 in /opt/conda/lib/python3.7/site-packages (from tensorflow-data-validation) (1.19.2)\n",
      "Requirement already satisfied: crcmod<2.0,>=1.7 in /opt/conda/lib/python3.7/site-packages (from apache-beam[gcp]<3,>=2.36->tensorflow-data-validation) (1.7)\n",
      "Requirement already satisfied: hdfs<3.0.0,>=2.1.0 in /opt/conda/lib/python3.7/site-packages (from apache-beam[gcp]<3,>=2.36->tensorflow-data-validation) (2.6.0)\n",
      "Requirement already satisfied: orjson<4.0 in /opt/conda/lib/python3.7/site-packages (from apache-beam[gcp]<3,>=2.36->tensorflow-data-validation) (3.6.7)\n",
      "Requirement already satisfied: grpcio<2,>=1.29.0 in /opt/conda/lib/python3.7/site-packages (from apache-beam[gcp]<3,>=2.36->tensorflow-data-validation) (1.44.0)\n",
      "Requirement already satisfied: fastavro<2,>=0.23.6 in /opt/conda/lib/python3.7/site-packages (from apache-beam[gcp]<3,>=2.36->tensorflow-data-validation) (1.4.10)\n",
      "Requirement already satisfied: oauth2client<5,>=2.0.1 in /opt/conda/lib/python3.7/site-packages (from apache-beam[gcp]<3,>=2.36->tensorflow-data-validation) (4.1.3)\n",
      "Requirement already satisfied: python-dateutil<3,>=2.8.0 in /opt/conda/lib/python3.7/site-packages (from apache-beam[gcp]<3,>=2.36->tensorflow-data-validation) (2.8.2)\n",
      "Collecting httplib2<0.20.0,>=0.8\n",
      "  Downloading httplib2-0.19.1-py3-none-any.whl (95 kB)\n",
      "\u001b[2K     \u001b[90m━━━━━━━━━━━━━━━━━━━━━━━━━━━━━━━━━━━━━━━━\u001b[0m \u001b[32m95.4/95.4 KB\u001b[0m \u001b[31m18.4 MB/s\u001b[0m eta \u001b[36m0:00:00\u001b[0m\n",
      "\u001b[?25hRequirement already satisfied: cloudpickle<3,>=2.0.0 in /opt/conda/lib/python3.7/site-packages (from apache-beam[gcp]<3,>=2.36->tensorflow-data-validation) (2.0.0)\n",
      "Collecting dill<0.3.2,>=0.3.1.1\n",
      "  Downloading dill-0.3.1.1.tar.gz (151 kB)\n",
      "\u001b[2K     \u001b[90m━━━━━━━━━━━━━━━━━━━━━━━━━━━━━━━━━━━━━━\u001b[0m \u001b[32m152.0/152.0 KB\u001b[0m \u001b[31m28.9 MB/s\u001b[0m eta \u001b[36m0:00:00\u001b[0m\n",
      "\u001b[?25h  Preparing metadata (setup.py) ... \u001b[?25ldone\n",
      "\u001b[?25hRequirement already satisfied: proto-plus<2,>=1.7.1 in /opt/conda/lib/python3.7/site-packages (from apache-beam[gcp]<3,>=2.36->tensorflow-data-validation) (1.20.3)\n",
      "Requirement already satisfied: typing-extensions>=3.7.0 in /opt/conda/lib/python3.7/site-packages (from apache-beam[gcp]<3,>=2.36->tensorflow-data-validation) (3.10.0.2)\n",
      "Requirement already satisfied: pytz>=2018.3 in /opt/conda/lib/python3.7/site-packages (from apache-beam[gcp]<3,>=2.36->tensorflow-data-validation) (2021.3)\n",
      "Requirement already satisfied: requests<3.0.0,>=2.24.0 in /opt/conda/lib/python3.7/site-packages (from apache-beam[gcp]<3,>=2.36->tensorflow-data-validation) (2.27.1)\n",
      "Requirement already satisfied: pydot<2,>=1.2.0 in /opt/conda/lib/python3.7/site-packages (from apache-beam[gcp]<3,>=2.36->tensorflow-data-validation) (1.4.2)\n",
      "Requirement already satisfied: pymongo<4.0.0,>=3.8.0 in /opt/conda/lib/python3.7/site-packages (from apache-beam[gcp]<3,>=2.36->tensorflow-data-validation) (3.12.3)\n",
      "Collecting google-cloud-videointelligence<2,>=1.8.0\n",
      "  Downloading google_cloud_videointelligence-1.16.2-py2.py3-none-any.whl (183 kB)\n",
      "\u001b[2K     \u001b[90m━━━━━━━━━━━━━━━━━━━━━━━━━━━━━━━━━━━━━━━\u001b[0m \u001b[32m183.9/183.9 KB\u001b[0m \u001b[31m3.5 MB/s\u001b[0m eta \u001b[36m0:00:00\u001b[0ma \u001b[36m0:00:01\u001b[0m\n",
      "\u001b[?25hRequirement already satisfied: google-cloud-pubsublite<2,>=1.2.0 in /opt/conda/lib/python3.7/site-packages (from apache-beam[gcp]<3,>=2.36->tensorflow-data-validation) (1.4.1)\n",
      "Requirement already satisfied: grpcio-gcp<1,>=0.2.2 in /opt/conda/lib/python3.7/site-packages (from apache-beam[gcp]<3,>=2.36->tensorflow-data-validation) (0.2.2)\n",
      "Requirement already satisfied: cachetools<5,>=3.1.0 in /opt/conda/lib/python3.7/site-packages (from apache-beam[gcp]<3,>=2.36->tensorflow-data-validation) (4.2.4)\n",
      "Requirement already satisfied: google-cloud-bigquery-storage>=2.6.3 in /opt/conda/lib/python3.7/site-packages (from apache-beam[gcp]<3,>=2.36->tensorflow-data-validation) (2.13.0)\n",
      "Collecting google-cloud-datastore<2,>=1.8.0\n",
      "  Downloading google_cloud_datastore-1.15.4-py2.py3-none-any.whl (134 kB)\n",
      "\u001b[2K     \u001b[90m━━━━━━━━━━━━━━━━━━━━━━━━━━━━━━━━━━━━━\u001b[0m \u001b[32m134.2/134.2 KB\u001b[0m \u001b[31m659.0 kB/s\u001b[0m eta \u001b[36m0:00:00\u001b[0m00:01\u001b[0m\n",
      "\u001b[?25hRequirement already satisfied: google-cloud-recommendations-ai<=0.2.0,>=0.1.0 in /opt/conda/lib/python3.7/site-packages (from apache-beam[gcp]<3,>=2.36->tensorflow-data-validation) (0.2.0)\n",
      "Requirement already satisfied: google-auth<3,>=1.18.0 in /opt/conda/lib/python3.7/site-packages (from apache-beam[gcp]<3,>=2.36->tensorflow-data-validation) (1.35.0)\n",
      "Collecting google-cloud-core<2,>=0.28.1\n",
      "  Downloading google_cloud_core-1.7.2-py2.py3-none-any.whl (28 kB)\n",
      "Collecting google-cloud-language<2,>=1.3.0\n",
      "  Downloading google_cloud_language-1.3.1-py2.py3-none-any.whl (83 kB)\n",
      "\u001b[2K     \u001b[90m━━━━━━━━━━━━━━━━━━━━━━━━━━━━━━━━━━━━━━━\u001b[0m \u001b[32m83.6/83.6 KB\u001b[0m \u001b[31m123.5 kB/s\u001b[0m eta \u001b[36m0:00:00\u001b[0m00:01\u001b[0m\n",
      "\u001b[?25hCollecting google-cloud-bigtable<2,>=0.31.1\n",
      "  Downloading google_cloud_bigtable-1.7.1-py2.py3-none-any.whl (267 kB)\n",
      "\u001b[2K     \u001b[90m━━━━━━━━━━━━━━━━━━━━━━━━━━━━━━━━━━━━━\u001b[0m \u001b[32m267.7/267.7 KB\u001b[0m \u001b[31m599.2 kB/s\u001b[0m eta \u001b[36m0:00:00\u001b[0m00:01\u001b[0m\n",
      "\u001b[?25hCollecting google-cloud-spanner<2,>=1.13.0\n",
      "  Downloading google_cloud_spanner-1.19.2-py2.py3-none-any.whl (255 kB)\n",
      "\u001b[2K     \u001b[90m━━━━━━━━━━━━━━━━━━━━━━━━━━━━━━━━━━━━━━\u001b[0m \u001b[32m255.5/255.5 KB\u001b[0m \u001b[31m39.6 MB/s\u001b[0m eta \u001b[36m0:00:00\u001b[0m\n",
      "\u001b[?25hRequirement already satisfied: google-cloud-pubsub<3,>=2.1.0 in /opt/conda/lib/python3.7/site-packages (from apache-beam[gcp]<3,>=2.36->tensorflow-data-validation) (2.11.0)\n",
      "Collecting google-cloud-vision<2,>=0.38.0\n",
      "  Downloading google_cloud_vision-1.0.1-py2.py3-none-any.whl (435 kB)\n",
      "\u001b[2K     \u001b[90m━━━━━━━━━━━━━━━━━━━━━━━━━━━━━━━━━━━━━━\u001b[0m \u001b[32m435.1/435.1 KB\u001b[0m \u001b[31m47.3 MB/s\u001b[0m eta \u001b[36m0:00:00\u001b[0m\n",
      "\u001b[?25hRequirement already satisfied: google-apitools<0.5.32,>=0.5.31 in /opt/conda/lib/python3.7/site-packages (from apache-beam[gcp]<3,>=2.36->tensorflow-data-validation) (0.5.31)\n",
      "Requirement already satisfied: google-cloud-dlp<4,>=3.0.0 in /opt/conda/lib/python3.7/site-packages (from apache-beam[gcp]<3,>=2.36->tensorflow-data-validation) (3.6.2)\n",
      "Requirement already satisfied: google-cloud-bigquery<3,>=1.6.0 in /opt/conda/lib/python3.7/site-packages (from apache-beam[gcp]<3,>=2.36->tensorflow-data-validation) (2.34.2)\n",
      "Collecting tf-estimator-nightly==2.8.0.dev2021122109\n",
      "  Downloading tf_estimator_nightly-2.8.0.dev2021122109-py2.py3-none-any.whl (462 kB)\n",
      "\u001b[2K     \u001b[90m━━━━━━━━━━━━━━━━━━━━━━━━━━━━━━━━━━━━━━\u001b[0m \u001b[32m462.5/462.5 KB\u001b[0m \u001b[31m37.9 MB/s\u001b[0m eta \u001b[36m0:00:00\u001b[0m\n",
      "\u001b[?25hRequirement already satisfied: termcolor>=1.1.0 in /opt/conda/lib/python3.7/site-packages (from tensorflow!=2.0.*,!=2.1.*,!=2.2.*,!=2.3.*,!=2.4.*,!=2.5.*,!=2.6.*,!=2.7.*,<3,>=1.15.5->tensorflow-data-validation) (1.1.0)\n",
      "Requirement already satisfied: gast>=0.2.1 in /opt/conda/lib/python3.7/site-packages (from tensorflow!=2.0.*,!=2.1.*,!=2.2.*,!=2.3.*,!=2.4.*,!=2.5.*,!=2.6.*,!=2.7.*,<3,>=1.15.5->tensorflow-data-validation) (0.4.0)\n",
      "Collecting keras<2.9,>=2.8.0rc0\n",
      "  Downloading keras-2.8.0-py2.py3-none-any.whl (1.4 MB)\n",
      "\u001b[2K     \u001b[90m━━━━━━━━━━━━━━━━━━━━━━━━━━━━━━━━━━━━━━━━\u001b[0m \u001b[32m1.4/1.4 MB\u001b[0m \u001b[31m73.8 MB/s\u001b[0m eta \u001b[36m0:00:00\u001b[0m\n",
      "\u001b[?25hCollecting numpy<2,>=1.16\n",
      "  Downloading numpy-1.21.6-cp37-cp37m-manylinux_2_12_x86_64.manylinux2010_x86_64.whl (15.7 MB)\n",
      "\u001b[2K     \u001b[90m━━━━━━━━━━━━━━━━━━━━━━━━━━━━━━━━━━━━━━━━\u001b[0m \u001b[32m15.7/15.7 MB\u001b[0m \u001b[31m72.5 MB/s\u001b[0m eta \u001b[36m0:00:00\u001b[0m00:01\u001b[0m00:01\u001b[0m\n",
      "\u001b[?25hCollecting tensorflow-io-gcs-filesystem>=0.23.1\n",
      "  Downloading tensorflow_io_gcs_filesystem-0.25.0-cp37-cp37m-manylinux_2_12_x86_64.manylinux2010_x86_64.whl (2.1 MB)\n",
      "\u001b[2K     \u001b[90m━━━━━━━━━━━━━━━━━━━━━━━━━━━━━━━━━━━━━━━━\u001b[0m \u001b[32m2.1/2.1 MB\u001b[0m \u001b[31m88.8 MB/s\u001b[0m eta \u001b[36m0:00:00\u001b[0m\n",
      "\u001b[?25hRequirement already satisfied: keras-preprocessing>=1.1.1 in /opt/conda/lib/python3.7/site-packages (from tensorflow!=2.0.*,!=2.1.*,!=2.2.*,!=2.3.*,!=2.4.*,!=2.5.*,!=2.6.*,!=2.7.*,<3,>=1.15.5->tensorflow-data-validation) (1.1.2)\n",
      "Requirement already satisfied: wrapt>=1.11.0 in /opt/conda/lib/python3.7/site-packages (from tensorflow!=2.0.*,!=2.1.*,!=2.2.*,!=2.3.*,!=2.4.*,!=2.5.*,!=2.6.*,!=2.7.*,<3,>=1.15.5->tensorflow-data-validation) (1.12.1)\n",
      "Requirement already satisfied: setuptools in /opt/conda/lib/python3.7/site-packages (from tensorflow!=2.0.*,!=2.1.*,!=2.2.*,!=2.3.*,!=2.4.*,!=2.5.*,!=2.6.*,!=2.7.*,<3,>=1.15.5->tensorflow-data-validation) (59.8.0)\n",
      "Requirement already satisfied: astunparse>=1.6.0 in /opt/conda/lib/python3.7/site-packages (from tensorflow!=2.0.*,!=2.1.*,!=2.2.*,!=2.3.*,!=2.4.*,!=2.5.*,!=2.6.*,!=2.7.*,<3,>=1.15.5->tensorflow-data-validation) (1.6.3)\n",
      "Collecting libclang>=9.0.1\n",
      "  Downloading libclang-14.0.1-py2.py3-none-manylinux1_x86_64.whl (14.5 MB)\n",
      "\u001b[2K     \u001b[90m━━━━━━━━━━━━━━━━━━━━━━━━━━━━━━━━━━━━━━━━\u001b[0m \u001b[32m14.5/14.5 MB\u001b[0m \u001b[31m77.2 MB/s\u001b[0m eta \u001b[36m0:00:00\u001b[0m00:01\u001b[0m00:01\u001b[0m\n",
      "\u001b[?25hRequirement already satisfied: opt-einsum>=2.3.2 in /opt/conda/lib/python3.7/site-packages (from tensorflow!=2.0.*,!=2.1.*,!=2.2.*,!=2.3.*,!=2.4.*,!=2.5.*,!=2.6.*,!=2.7.*,<3,>=1.15.5->tensorflow-data-validation) (3.3.0)\n",
      "Requirement already satisfied: flatbuffers>=1.12 in /opt/conda/lib/python3.7/site-packages (from tensorflow!=2.0.*,!=2.1.*,!=2.2.*,!=2.3.*,!=2.4.*,!=2.5.*,!=2.6.*,!=2.7.*,<3,>=1.15.5->tensorflow-data-validation) (1.12)\n",
      "Requirement already satisfied: google-pasta>=0.1.1 in /opt/conda/lib/python3.7/site-packages (from tensorflow!=2.0.*,!=2.1.*,!=2.2.*,!=2.3.*,!=2.4.*,!=2.5.*,!=2.6.*,!=2.7.*,<3,>=1.15.5->tensorflow-data-validation) (0.2.0)\n",
      "Collecting tensorboard<2.9,>=2.8\n",
      "  Downloading tensorboard-2.8.0-py3-none-any.whl (5.8 MB)\n",
      "\u001b[2K     \u001b[90m━━━━━━━━━━━━━━━━━━━━━━━━━━━━━━━━━━━━━━━━\u001b[0m \u001b[32m5.8/5.8 MB\u001b[0m \u001b[31m109.5 MB/s\u001b[0m eta \u001b[36m0:00:00\u001b[0m00:01\u001b[0m\n",
      "\u001b[?25hRequirement already satisfied: h5py>=2.9.0 in /opt/conda/lib/python3.7/site-packages (from tensorflow!=2.0.*,!=2.1.*,!=2.2.*,!=2.3.*,!=2.4.*,!=2.5.*,!=2.6.*,!=2.7.*,<3,>=1.15.5->tensorflow-data-validation) (3.1.0)\n",
      "Requirement already satisfied: googleapis-common-protos<2,>=1.52.0 in /opt/conda/lib/python3.7/site-packages (from tensorflow-metadata<1.8,>=1.7.0->tensorflow-data-validation) (1.54.0)\n",
      "Collecting google-api-python-client<2,>=1.7.11\n",
      "  Downloading google_api_python_client-1.12.11-py2.py3-none-any.whl (62 kB)\n",
      "\u001b[2K     \u001b[90m━━━━━━━━━━━━━━━━━━━━━━━━━━━━━━━━━━━━━━━━\u001b[0m \u001b[32m62.1/62.1 KB\u001b[0m \u001b[31m11.9 MB/s\u001b[0m eta \u001b[36m0:00:00\u001b[0m\n",
      "\u001b[?25hRequirement already satisfied: tensorflow-serving-api!=2.0.*,!=2.1.*,!=2.2.*,!=2.3.*,!=2.4.*,!=2.5.*,!=2.6.*,!=2.7.*,<3,>=1.15 in /opt/conda/lib/python3.7/site-packages (from tfx-bsl<1.8,>=1.7.0->tensorflow-data-validation) (2.8.0)\n",
      "Requirement already satisfied: wheel<1.0,>=0.23.0 in /opt/conda/lib/python3.7/site-packages (from astunparse>=1.6.0->tensorflow!=2.0.*,!=2.1.*,!=2.2.*,!=2.3.*,!=2.4.*,!=2.5.*,!=2.6.*,!=2.7.*,<3,>=1.15.5->tensorflow-data-validation) (0.37.1)\n",
      "Requirement already satisfied: google-auth-httplib2>=0.0.3 in /opt/conda/lib/python3.7/site-packages (from google-api-python-client<2,>=1.7.11->tfx-bsl<1.8,>=1.7.0->tensorflow-data-validation) (0.1.0)\n",
      "Requirement already satisfied: google-api-core<3dev,>=1.21.0 in /opt/conda/lib/python3.7/site-packages (from google-api-python-client<2,>=1.7.11->tfx-bsl<1.8,>=1.7.0->tensorflow-data-validation) (2.5.0)\n",
      "Collecting uritemplate<4dev,>=3.0.0\n",
      "  Downloading uritemplate-3.0.1-py2.py3-none-any.whl (15 kB)\n",
      "Requirement already satisfied: fasteners>=0.14 in /opt/conda/lib/python3.7/site-packages (from google-apitools<0.5.32,>=0.5.31->apache-beam[gcp]<3,>=2.36->tensorflow-data-validation) (0.17.3)\n",
      "Requirement already satisfied: rsa<5,>=3.1.4 in /opt/conda/lib/python3.7/site-packages (from google-auth<3,>=1.18.0->apache-beam[gcp]<3,>=2.36->tensorflow-data-validation) (4.8)\n",
      "Requirement already satisfied: pyasn1-modules>=0.2.1 in /opt/conda/lib/python3.7/site-packages (from google-auth<3,>=1.18.0->apache-beam[gcp]<3,>=2.36->tensorflow-data-validation) (0.2.7)\n",
      "Requirement already satisfied: packaging>=14.3 in /opt/conda/lib/python3.7/site-packages (from google-cloud-bigquery<3,>=1.6.0->apache-beam[gcp]<3,>=2.36->tensorflow-data-validation) (21.3)\n",
      "Requirement already satisfied: google-resumable-media<3.0dev,>=0.6.0 in /opt/conda/lib/python3.7/site-packages (from google-cloud-bigquery<3,>=1.6.0->apache-beam[gcp]<3,>=2.36->tensorflow-data-validation) (2.3.2)\n",
      "Requirement already satisfied: grpc-google-iam-v1<0.13dev,>=0.12.3 in /opt/conda/lib/python3.7/site-packages (from google-cloud-bigtable<2,>=0.31.1->apache-beam[gcp]<3,>=2.36->tensorflow-data-validation) (0.12.3)\n",
      "Collecting google-api-core<3dev,>=1.21.0\n",
      "  Downloading google_api_core-1.31.5-py2.py3-none-any.whl (93 kB)\n",
      "\u001b[2K     \u001b[90m━━━━━━━━━━━━━━━━━━━━━━━━━━━━━━━━━━━━━━━━\u001b[0m \u001b[32m93.3/93.3 KB\u001b[0m \u001b[31m18.2 MB/s\u001b[0m eta \u001b[36m0:00:00\u001b[0m\n",
      "\u001b[?25hRequirement already satisfied: grpcio-status>=1.16.0 in /opt/conda/lib/python3.7/site-packages (from google-cloud-pubsub<3,>=2.1.0->apache-beam[gcp]<3,>=2.36->tensorflow-data-validation) (1.44.0)\n",
      "Requirement already satisfied: overrides<7.0.0,>=6.0.1 in /opt/conda/lib/python3.7/site-packages (from google-cloud-pubsublite<2,>=1.2.0->apache-beam[gcp]<3,>=2.36->tensorflow-data-validation) (6.1.0)\n",
      "Requirement already satisfied: cached-property in /opt/conda/lib/python3.7/site-packages (from h5py>=2.9.0->tensorflow!=2.0.*,!=2.1.*,!=2.2.*,!=2.3.*,!=2.4.*,!=2.5.*,!=2.6.*,!=2.7.*,<3,>=1.15.5->tensorflow-data-validation) (1.5.2)\n",
      "Requirement already satisfied: docopt in /opt/conda/lib/python3.7/site-packages (from hdfs<3.0.0,>=2.1.0->apache-beam[gcp]<3,>=2.36->tensorflow-data-validation) (0.6.2)\n",
      "Collecting pyparsing<3,>=2.4.2\n",
      "  Downloading pyparsing-2.4.7-py2.py3-none-any.whl (67 kB)\n",
      "\u001b[2K     \u001b[90m━━━━━━━━━━━━━━━━━━━━━━━━━━━━━━━━━━━━━━━━\u001b[0m \u001b[32m67.8/67.8 KB\u001b[0m \u001b[31m12.6 MB/s\u001b[0m eta \u001b[36m0:00:00\u001b[0m\n",
      "\u001b[?25hRequirement already satisfied: pyasn1>=0.1.7 in /opt/conda/lib/python3.7/site-packages (from oauth2client<5,>=2.0.1->apache-beam[gcp]<3,>=2.36->tensorflow-data-validation) (0.4.8)\n",
      "Requirement already satisfied: charset-normalizer~=2.0.0 in /opt/conda/lib/python3.7/site-packages (from requests<3.0.0,>=2.24.0->apache-beam[gcp]<3,>=2.36->tensorflow-data-validation) (2.0.12)\n",
      "Requirement already satisfied: idna<4,>=2.5 in /opt/conda/lib/python3.7/site-packages (from requests<3.0.0,>=2.24.0->apache-beam[gcp]<3,>=2.36->tensorflow-data-validation) (3.3)\n",
      "Requirement already satisfied: certifi>=2017.4.17 in /opt/conda/lib/python3.7/site-packages (from requests<3.0.0,>=2.24.0->apache-beam[gcp]<3,>=2.36->tensorflow-data-validation) (2021.10.8)\n",
      "Requirement already satisfied: urllib3<1.27,>=1.21.1 in /opt/conda/lib/python3.7/site-packages (from requests<3.0.0,>=2.24.0->apache-beam[gcp]<3,>=2.36->tensorflow-data-validation) (1.26.8)\n",
      "Requirement already satisfied: google-auth-oauthlib<0.5,>=0.4.1 in /opt/conda/lib/python3.7/site-packages (from tensorboard<2.9,>=2.8->tensorflow!=2.0.*,!=2.1.*,!=2.2.*,!=2.3.*,!=2.4.*,!=2.5.*,!=2.6.*,!=2.7.*,<3,>=1.15.5->tensorflow-data-validation) (0.4.6)\n",
      "Requirement already satisfied: tensorboard-plugin-wit>=1.6.0 in /opt/conda/lib/python3.7/site-packages (from tensorboard<2.9,>=2.8->tensorflow!=2.0.*,!=2.1.*,!=2.2.*,!=2.3.*,!=2.4.*,!=2.5.*,!=2.6.*,!=2.7.*,<3,>=1.15.5->tensorflow-data-validation) (1.8.1)\n",
      "Requirement already satisfied: tensorboard-data-server<0.7.0,>=0.6.0 in /opt/conda/lib/python3.7/site-packages (from tensorboard<2.9,>=2.8->tensorflow!=2.0.*,!=2.1.*,!=2.2.*,!=2.3.*,!=2.4.*,!=2.5.*,!=2.6.*,!=2.7.*,<3,>=1.15.5->tensorflow-data-validation) (0.6.1)\n",
      "Requirement already satisfied: markdown>=2.6.8 in /opt/conda/lib/python3.7/site-packages (from tensorboard<2.9,>=2.8->tensorflow!=2.0.*,!=2.1.*,!=2.2.*,!=2.3.*,!=2.4.*,!=2.5.*,!=2.6.*,!=2.7.*,<3,>=1.15.5->tensorflow-data-validation) (3.3.6)\n",
      "Requirement already satisfied: werkzeug>=0.11.15 in /opt/conda/lib/python3.7/site-packages (from tensorboard<2.9,>=2.8->tensorflow!=2.0.*,!=2.1.*,!=2.2.*,!=2.3.*,!=2.4.*,!=2.5.*,!=2.6.*,!=2.7.*,<3,>=1.15.5->tensorflow-data-validation) (2.0.3)\n",
      "Collecting google-api-core[grpc,grpcgcp]!=2.0.*,!=2.1.*,!=2.2.*,!=2.3.0,<3.0.0dev,>=1.31.5\n",
      "  Downloading google_api_core-2.7.3-py3-none-any.whl (114 kB)\n",
      "\u001b[2K     \u001b[90m━━━━━━━━━━━━━━━━━━━━━━━━━━━━━━━━━━━━━━\u001b[0m \u001b[32m114.6/114.6 KB\u001b[0m \u001b[31m19.8 MB/s\u001b[0m eta \u001b[36m0:00:00\u001b[0m\n",
      "\u001b[?25h  Downloading google_api_core-2.7.2-py3-none-any.whl (114 kB)\n",
      "\u001b[2K     \u001b[90m━━━━━━━━━━━━━━━━━━━━━━━━━━━━━━━━━━━━━━\u001b[0m \u001b[32m114.6/114.6 KB\u001b[0m \u001b[31m21.9 MB/s\u001b[0m eta \u001b[36m0:00:00\u001b[0m\n",
      "\u001b[?25h  Downloading google_api_core-2.7.1-py3-none-any.whl (114 kB)\n",
      "\u001b[2K     \u001b[90m━━━━━━━━━━━━━━━━━━━━━━━━━━━━━━━━━━━━━━\u001b[0m \u001b[32m114.7/114.7 KB\u001b[0m \u001b[31m21.6 MB/s\u001b[0m eta \u001b[36m0:00:00\u001b[0m\n",
      "\u001b[?25h  Downloading google_api_core-2.7.0-py3-none-any.whl (114 kB)\n",
      "\u001b[2K     \u001b[90m━━━━━━━━━━━━━━━━━━━━━━━━━━━━━━━━━━━━━━\u001b[0m \u001b[32m114.7/114.7 KB\u001b[0m \u001b[31m22.1 MB/s\u001b[0m eta \u001b[36m0:00:00\u001b[0m\n",
      "\u001b[?25h  Downloading google_api_core-2.6.1-py3-none-any.whl (114 kB)\n",
      "\u001b[2K     \u001b[90m━━━━━━━━━━━━━━━━━━━━━━━━━━━━━━━━━━━━━━\u001b[0m \u001b[32m114.6/114.6 KB\u001b[0m \u001b[31m21.1 MB/s\u001b[0m eta \u001b[36m0:00:00\u001b[0m\n",
      "\u001b[?25h  Downloading google_api_core-2.6.0-py2.py3-none-any.whl (114 kB)\n",
      "\u001b[2K     \u001b[90m━━━━━━━━━━━━━━━━━━━━━━━━━━━━━━━━━━━━━━\u001b[0m \u001b[32m114.6/114.6 KB\u001b[0m \u001b[31m22.9 MB/s\u001b[0m eta \u001b[36m0:00:00\u001b[0m\n",
      "\u001b[?25h  Downloading google_api_core-2.4.0-py2.py3-none-any.whl (111 kB)\n",
      "\u001b[2K     \u001b[90m━━━━━━━━━━━━━━━━━━━━━━━━━━━━━━━━━━━━━━\u001b[0m \u001b[32m111.7/111.7 KB\u001b[0m \u001b[31m21.8 MB/s\u001b[0m eta \u001b[36m0:00:00\u001b[0m\n",
      "\u001b[?25h  Downloading google_api_core-2.3.2-py2.py3-none-any.whl (109 kB)\n",
      "\u001b[2K     \u001b[90m━━━━━━━━━━━━━━━━━━━━━━━━━━━━━━━━━━━━━━\u001b[0m \u001b[32m109.8/109.8 KB\u001b[0m \u001b[31m19.5 MB/s\u001b[0m eta \u001b[36m0:00:00\u001b[0m\n",
      "\u001b[?25hRequirement already satisfied: requests-oauthlib>=0.7.0 in /opt/conda/lib/python3.7/site-packages (from google-auth-oauthlib<0.5,>=0.4.1->tensorboard<2.9,>=2.8->tensorflow!=2.0.*,!=2.1.*,!=2.2.*,!=2.3.*,!=2.4.*,!=2.5.*,!=2.6.*,!=2.7.*,<3,>=1.15.5->tensorflow-data-validation) (1.3.1)\n",
      "Requirement already satisfied: google-crc32c<2.0dev,>=1.0 in /opt/conda/lib/python3.7/site-packages (from google-resumable-media<3.0dev,>=0.6.0->google-cloud-bigquery<3,>=1.6.0->apache-beam[gcp]<3,>=2.36->tensorflow-data-validation) (1.1.2)\n",
      "Requirement already satisfied: importlib-metadata>=4.4 in /opt/conda/lib/python3.7/site-packages (from markdown>=2.6.8->tensorboard<2.9,>=2.8->tensorflow!=2.0.*,!=2.1.*,!=2.2.*,!=2.3.*,!=2.4.*,!=2.5.*,!=2.6.*,!=2.7.*,<3,>=1.15.5->tensorflow-data-validation) (4.11.3)\n",
      "Requirement already satisfied: typing-utils>=0.0.3 in /opt/conda/lib/python3.7/site-packages (from overrides<7.0.0,>=6.0.1->google-cloud-pubsublite<2,>=1.2.0->apache-beam[gcp]<3,>=2.36->tensorflow-data-validation) (0.1.0)\n",
      "Requirement already satisfied: cffi>=1.0.0 in /opt/conda/lib/python3.7/site-packages (from google-crc32c<2.0dev,>=1.0->google-resumable-media<3.0dev,>=0.6.0->google-cloud-bigquery<3,>=1.6.0->apache-beam[gcp]<3,>=2.36->tensorflow-data-validation) (1.15.0)\n",
      "Requirement already satisfied: zipp>=0.5 in /opt/conda/lib/python3.7/site-packages (from importlib-metadata>=4.4->markdown>=2.6.8->tensorboard<2.9,>=2.8->tensorflow!=2.0.*,!=2.1.*,!=2.2.*,!=2.3.*,!=2.4.*,!=2.5.*,!=2.6.*,!=2.7.*,<3,>=1.15.5->tensorflow-data-validation) (3.7.0)\n",
      "Requirement already satisfied: oauthlib>=3.0.0 in /opt/conda/lib/python3.7/site-packages (from requests-oauthlib>=0.7.0->google-auth-oauthlib<0.5,>=0.4.1->tensorboard<2.9,>=2.8->tensorflow!=2.0.*,!=2.1.*,!=2.2.*,!=2.3.*,!=2.4.*,!=2.5.*,!=2.6.*,!=2.7.*,<3,>=1.15.5->tensorflow-data-validation) (3.2.0)\n",
      "Requirement already satisfied: pycparser in /opt/conda/lib/python3.7/site-packages (from cffi>=1.0.0->google-crc32c<2.0dev,>=1.0->google-resumable-media<3.0dev,>=0.6.0->google-cloud-bigquery<3,>=1.6.0->apache-beam[gcp]<3,>=2.36->tensorflow-data-validation) (2.21)\n",
      "Building wheels for collected packages: pyfarmhash, dill\n",
      "  Building wheel for pyfarmhash (setup.py) ... \u001b[?25ldone\n",
      "\u001b[?25h  Created wheel for pyfarmhash: filename=pyfarmhash-0.3.2-cp37-cp37m-linux_x86_64.whl size=108628 sha256=bbf779ccf6e6fd1b5fccf40b327310a8321aa44bcbcddb0a4a929c08a1c99379\n",
      "  Stored in directory: /home/jupyter/.cache/pip/wheels/53/58/7a/3b040f3a2ee31908e3be916e32660db6db53621ce6eba838dc\n",
      "  Building wheel for dill (setup.py) ... \u001b[?25ldone\n",
      "\u001b[?25h  Created wheel for dill: filename=dill-0.3.1.1-py3-none-any.whl size=78544 sha256=b7aa53764b3f6015b45405bd588674724d8315438e544d3bc18b14a292694331\n",
      "  Stored in directory: /home/jupyter/.cache/pip/wheels/a4/61/fd/c57e374e580aa78a45ed78d5859b3a44436af17e22ca53284f\n",
      "Successfully built pyfarmhash dill\n",
      "Installing collected packages: tf-estimator-nightly, pyfarmhash, libclang, keras, joblib, uritemplate, tensorflow-io-gcs-filesystem, pyparsing, numpy, dill, httplib2, google-api-core, tensorboard, google-cloud-core, google-api-python-client, tensorflow, google-cloud-vision, google-cloud-videointelligence, google-cloud-spanner, google-cloud-language, google-cloud-datastore, google-cloud-bigtable, tensorflow-data-validation\n",
      "  Attempting uninstall: keras\n",
      "    Found existing installation: keras 2.6.0\n",
      "    Uninstalling keras-2.6.0:\n",
      "      Successfully uninstalled keras-2.6.0\n",
      "  Attempting uninstall: joblib\n",
      "    Found existing installation: joblib 1.0.1\n",
      "    Uninstalling joblib-1.0.1:\n",
      "      Successfully uninstalled joblib-1.0.1\n",
      "  Attempting uninstall: uritemplate\n",
      "    Found existing installation: uritemplate 4.1.1\n",
      "    Uninstalling uritemplate-4.1.1:\n",
      "      Successfully uninstalled uritemplate-4.1.1\n",
      "  Attempting uninstall: pyparsing\n",
      "    Found existing installation: pyparsing 3.0.7\n",
      "    Uninstalling pyparsing-3.0.7:\n",
      "      Successfully uninstalled pyparsing-3.0.7\n",
      "  Attempting uninstall: numpy\n",
      "    Found existing installation: numpy 1.19.2\n",
      "    Uninstalling numpy-1.19.2:\n",
      "      Successfully uninstalled numpy-1.19.2\n",
      "  Attempting uninstall: dill\n",
      "    Found existing installation: dill 0.3.4\n",
      "    Uninstalling dill-0.3.4:\n",
      "      Successfully uninstalled dill-0.3.4\n",
      "  Attempting uninstall: httplib2\n",
      "    Found existing installation: httplib2 0.20.4\n",
      "    Uninstalling httplib2-0.20.4:\n",
      "      Successfully uninstalled httplib2-0.20.4\n",
      "  Attempting uninstall: google-api-core\n",
      "    Found existing installation: google-api-core 2.5.0\n",
      "    Uninstalling google-api-core-2.5.0:\n",
      "      Successfully uninstalled google-api-core-2.5.0\n",
      "  Attempting uninstall: tensorboard\n",
      "    Found existing installation: tensorboard 2.6.0\n",
      "    Uninstalling tensorboard-2.6.0:\n",
      "      Successfully uninstalled tensorboard-2.6.0\n",
      "  Attempting uninstall: google-cloud-core\n",
      "    Found existing installation: google-cloud-core 2.2.3\n",
      "    Uninstalling google-cloud-core-2.2.3:\n",
      "      Successfully uninstalled google-cloud-core-2.2.3\n",
      "  Attempting uninstall: google-api-python-client\n",
      "    Found existing installation: google-api-python-client 2.41.0\n",
      "    Uninstalling google-api-python-client-2.41.0:\n",
      "      Successfully uninstalled google-api-python-client-2.41.0\n",
      "  Attempting uninstall: tensorflow\n",
      "    Found existing installation: tensorflow 2.6.3\n",
      "    Uninstalling tensorflow-2.6.3:\n",
      "      Successfully uninstalled tensorflow-2.6.3\n",
      "  Attempting uninstall: google-cloud-vision\n",
      "    Found existing installation: google-cloud-vision 2.7.1\n",
      "    Uninstalling google-cloud-vision-2.7.1:\n",
      "      Successfully uninstalled google-cloud-vision-2.7.1\n",
      "  Attempting uninstall: google-cloud-videointelligence\n",
      "    Found existing installation: google-cloud-videointelligence 2.6.1\n",
      "    Uninstalling google-cloud-videointelligence-2.6.1:\n",
      "      Successfully uninstalled google-cloud-videointelligence-2.6.1\n",
      "  Attempting uninstall: google-cloud-spanner\n",
      "    Found existing installation: google-cloud-spanner 3.13.0\n",
      "    Uninstalling google-cloud-spanner-3.13.0:\n",
      "      Successfully uninstalled google-cloud-spanner-3.13.0\n",
      "  Attempting uninstall: google-cloud-language\n",
      "    Found existing installation: google-cloud-language 2.4.1\n",
      "    Uninstalling google-cloud-language-2.4.1:\n",
      "      Successfully uninstalled google-cloud-language-2.4.1\n",
      "  Attempting uninstall: google-cloud-datastore\n",
      "    Found existing installation: google-cloud-datastore 2.5.1\n",
      "    Uninstalling google-cloud-datastore-2.5.1:\n",
      "      Successfully uninstalled google-cloud-datastore-2.5.1\n",
      "  Attempting uninstall: google-cloud-bigtable\n",
      "    Found existing installation: google-cloud-bigtable 2.7.0\n",
      "    Uninstalling google-cloud-bigtable-2.7.0:\n",
      "      Successfully uninstalled google-cloud-bigtable-2.7.0\n",
      "\u001b[31mERROR: pip's dependency resolver does not currently take into account all the packages that are installed. This behaviour is the source of the following dependency conflicts.\n",
      "tensorflow-io 0.21.0 requires tensorflow<2.7.0,>=2.6.0, but you have tensorflow 2.8.0 which is incompatible.\n",
      "tensorflow-io 0.21.0 requires tensorflow-io-gcs-filesystem==0.21.0, but you have tensorflow-io-gcs-filesystem 0.25.0 which is incompatible.\n",
      "pandas-profiling 3.1.0 requires joblib~=1.0.1, but you have joblib 0.14.1 which is incompatible.\n",
      "cloud-tpu-client 0.10 requires google-api-python-client==1.8.0, but you have google-api-python-client 1.12.11 which is incompatible.\u001b[0m\u001b[31m\n",
      "\u001b[0mSuccessfully installed dill-0.3.1.1 google-api-core-1.31.5 google-api-python-client-1.12.11 google-cloud-bigtable-1.7.1 google-cloud-core-2.2.2 google-cloud-datastore-1.15.4 google-cloud-language-1.3.1 google-cloud-spanner-1.19.2 google-cloud-videointelligence-1.16.2 google-cloud-vision-1.0.1 httplib2-0.19.1 joblib-0.14.1 keras-2.8.0 libclang-14.0.1 numpy-1.21.6 pyfarmhash-0.3.2 pyparsing-2.4.7 tensorboard-2.8.0 tensorflow-2.8.0 tensorflow-data-validation-1.7.0 tensorflow-io-gcs-filesystem-0.25.0 tf-estimator-nightly-2.8.0.dev2021122109 uritemplate-3.0.1\n"
     ]
    }
   ],
   "source": [
    "!pip install pyarrow==5.0.0\n",
    "!pip install numpy==1.19.2\n",
    "!pip install tensorflow-data-validation"
   ]
  },
  {
   "cell_type": "markdown",
   "metadata": {
    "colab_type": "text",
    "id": "AsHg6SD2nO1v"
   },
   "source": [
    "**Restart the kernel (Kernel > Restart kernel > Restart).**\n",
    "\n",
    "**Re-run the above cell and proceed further.**\n",
    "\n",
    "**Note: Please ignore any incompatibility warnings and errors.**"
   ]
  },
  {
   "cell_type": "markdown",
   "metadata": {
    "id": "4qBFH1ARcSNk"
   },
   "source": [
    "## Install TFDV\n",
    "\n",
    "This will pull in all the dependencies, which will take a minute.  Please ignore the warnings or errors regarding incompatible dependency versions.\n",
    "\n"
   ]
  },
  {
   "cell_type": "code",
   "execution_count": 1,
   "metadata": {
    "id": "hPJsE5Gkdp8m"
   },
   "outputs": [
    {
     "name": "stdout",
     "output_type": "stream",
     "text": [
      "Installing TensorFlow Data Validation\n"
     ]
    }
   ],
   "source": [
    "import pandas as pd\n",
    "import tensorflow_data_validation as tfdv\n",
    "import sys\n",
    "import warnings\n",
    "warnings.filterwarnings('ignore')\n",
    "\n",
    "print('Installing TensorFlow Data Validation')\n",
    "!pip install -q tensorflow_data_validation[visualization]"
   ]
  },
  {
   "cell_type": "markdown",
   "metadata": {
    "id": "5MizoHg1DRlK"
   },
   "source": [
    "## Load the Files\n",
    "We will download our dataset from Google Cloud Storage."
   ]
  },
  {
   "cell_type": "code",
   "execution_count": 2,
   "metadata": {
    "id": "x5gfFiTeDa6Y"
   },
   "outputs": [
    {
     "name": "stdout",
     "output_type": "stream",
     "text": [
      "Here's what we downloaded:\n",
      "/tmp/tmpiqflm9q7/data:\n",
      "eval  serving  train\n",
      "\n",
      "/tmp/tmpiqflm9q7/data/eval:\n",
      "data.csv\n",
      "\n",
      "/tmp/tmpiqflm9q7/data/serving:\n",
      "data.csv\n",
      "\n",
      "/tmp/tmpiqflm9q7/data/train:\n",
      "data.csv\n"
     ]
    }
   ],
   "source": [
    "import os\n",
    "import tempfile, urllib, zipfile\n",
    "\n",
    "# Set up some globals for our file paths\n",
    "BASE_DIR = tempfile.mkdtemp()\n",
    "DATA_DIR = os.path.join(BASE_DIR, 'data')\n",
    "OUTPUT_DIR = os.path.join(BASE_DIR, 'chicago_taxi_output')\n",
    "TRAIN_DATA = os.path.join(DATA_DIR, 'train', 'data.csv')\n",
    "EVAL_DATA = os.path.join(DATA_DIR, 'eval', 'data.csv')\n",
    "SERVING_DATA = os.path.join(DATA_DIR, 'serving', 'data.csv')\n",
    "\n",
    "# Download the zip file from GCP and unzip it\n",
    "zip, headers = urllib.request.urlretrieve('https://storage.googleapis.com/artifacts.tfx-oss-public.appspot.com/datasets/chicago_data.zip')\n",
    "zipfile.ZipFile(zip).extractall(BASE_DIR)\n",
    "zipfile.ZipFile(zip).close()\n",
    "\n",
    "print(\"Here's what we downloaded:\")\n",
    "!ls -R {os.path.join(BASE_DIR, 'data')}"
   ]
  },
  {
   "cell_type": "markdown",
   "metadata": {
    "id": "IFXK2AdpSpv0"
   },
   "source": [
    "### Check the version"
   ]
  },
  {
   "cell_type": "code",
   "execution_count": 3,
   "metadata": {
    "id": "F5rPatTDSCHB"
   },
   "outputs": [
    {
     "name": "stdout",
     "output_type": "stream",
     "text": [
      "TFDV version: 1.7.0\n"
     ]
    }
   ],
   "source": [
    "import tensorflow_data_validation as tfdv\n",
    "print('TFDV version: {}'.format(tfdv.version.__version__))"
   ]
  },
  {
   "cell_type": "markdown",
   "metadata": {
    "id": "H0sFmiTbT8-x"
   },
   "source": [
    "## Compute and visualize statistics\n",
    "\n",
    "First we'll use [`tfdv.generate_statistics_from_csv`](https://www.tensorflow.org/tfx/data_validation/api_docs/python/tfdv/generate_statistics_from_csv) to compute statistics for our training data. (ignore the snappy warnings)\n",
    "\n",
    "TFDV can compute descriptive [statistics](https://github.com/tensorflow/metadata/blob/v0.6.0/tensorflow_metadata/proto/v0/statistics.proto) that provide a quick overview of the data in terms of the features that are present and the shapes of their value distributions.\n",
    "\n",
    "Internally, TFDV uses [Apache Beam](https://beam.apache.org/)'s data-parallel processing framework to scale the computation of statistics over large datasets. For applications that wish to integrate deeper with TFDV (e.g., attach statistics generation at the end of a data-generation pipeline), the API also exposes a Beam PTransform for statistics generation."
   ]
  },
  {
   "cell_type": "code",
   "execution_count": 6,
   "metadata": {
    "id": "EE481oMbT-H0"
   },
   "outputs": [],
   "source": [
    "# Compute data statistics from CSV files.\n",
    "# TODO: Your code goes here\n",
    "train_df = pd.read_csv(TRAIN_DATA)\n",
    "stats = tfdv.generate_statistics_from_dataframe(train_df)"
   ]
  },
  {
   "cell_type": "markdown",
   "metadata": {
    "id": "JhXQSxJ2dB_6"
   },
   "source": [
    "Now let's use [`tfdv.visualize_statistics`](https://www.tensorflow.org/tfx/data_validation/api_docs/python/tfdv/visualize_statistics), which uses [Facets](https://pair-code.github.io/facets/) to create a succinct visualization of our training data:\n",
    "\n",
    "* Notice that numeric features and categorical features are visualized separately, and that charts are displayed showing the distributions for each feature.\n",
    "* Notice that features with missing or zero values display a percentage in red as a visual indicator that there may be issues with examples in those features.  The percentage is the percentage of examples that have missing or zero values for that feature.\n",
    "* Notice that there are no examples with values for `pickup_census_tract`.  This is an opportunity for dimensionality reduction!\n",
    "* Try clicking \"expand\" above the charts to change the display\n",
    "* Try hovering over bars in the charts to display bucket ranges and counts\n",
    "* Try switching between the log and linear scales, and notice how the log scale reveals much more detail about the `payment_type` categorical feature\n",
    "* Try selecting \"quantiles\" from the \"Chart to show\" menu, and hover over the markers to show the quantile percentages"
   ]
  },
  {
   "cell_type": "code",
   "execution_count": 7,
   "metadata": {
    "id": "U3tUKgh7Up3x"
   },
   "outputs": [
    {
     "data": {
      "text/html": [
       "<iframe id='facets-iframe' width=\"100%\" height=\"500px\"></iframe>\n",
       "        <script>\n",
       "        facets_iframe = document.getElementById('facets-iframe');\n",
       "        facets_html = '<script src=\"https://cdnjs.cloudflare.com/ajax/libs/webcomponentsjs/1.3.3/webcomponents-lite.js\"><\\/script><link rel=\"import\" href=\"https://raw.githubusercontent.com/PAIR-code/facets/master/facets-dist/facets-jupyter.html\"><facets-overview proto-input=\"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\"></facets-overview>';\n",
       "        facets_iframe.srcdoc = facets_html;\n",
       "         facets_iframe.id = \"\";\n",
       "         setTimeout(() => {\n",
       "           facets_iframe.setAttribute('height', facets_iframe.contentWindow.document.body.offsetHeight + 'px')\n",
       "         }, 1500)\n",
       "         </script>"
      ],
      "text/plain": [
       "<IPython.core.display.HTML object>"
      ]
     },
     "metadata": {},
     "output_type": "display_data"
    }
   ],
   "source": [
    "# Visualize the input statistics using Facets.\n",
    "tfdv.visualize_statistics(stats)"
   ]
  },
  {
   "cell_type": "markdown",
   "metadata": {
    "id": "KVR02-y4V0uM"
   },
   "source": [
    "## Infer a schema\n",
    "\n",
    "Now let's use [`tfdv.infer_schema`](https://www.tensorflow.org/tfx/data_validation/api_docs/python/tfdv/infer_schema) to create a schema for our data.  A schema defines constraints for the data that are relevant for ML. Example constraints include the data type of each feature, whether it's numerical or categorical, or the frequency of its presence in the data.  For categorical features the schema also defines the domain - the list of acceptable values.  Since writing a schema can be a tedious task, especially for datasets with lots of features, TFDV provides a method to generate an initial version of the schema based on the descriptive statistics.\n",
    "\n",
    "Getting the schema right is important because the rest of our production pipeline will be relying on the schema that TFDV generates to be correct.  The schema also provides documentation for the data, and so is useful when different developers work on the same data.  Let's use [`tfdv.display_schema`](https://www.tensorflow.org/tfx/data_validation/api_docs/python/tfdv/display_schema) to display the inferred schema so that we can review it."
   ]
  },
  {
   "cell_type": "code",
   "execution_count": 9,
   "metadata": {
    "id": "6LLkRJThVr9m"
   },
   "outputs": [
    {
     "data": {
      "text/html": [
       "<div>\n",
       "<style scoped>\n",
       "    .dataframe tbody tr th:only-of-type {\n",
       "        vertical-align: middle;\n",
       "    }\n",
       "\n",
       "    .dataframe tbody tr th {\n",
       "        vertical-align: top;\n",
       "    }\n",
       "\n",
       "    .dataframe thead th {\n",
       "        text-align: right;\n",
       "    }\n",
       "</style>\n",
       "<table border=\"1\" class=\"dataframe\">\n",
       "  <thead>\n",
       "    <tr style=\"text-align: right;\">\n",
       "      <th></th>\n",
       "      <th>Type</th>\n",
       "      <th>Presence</th>\n",
       "      <th>Valency</th>\n",
       "      <th>Domain</th>\n",
       "    </tr>\n",
       "    <tr>\n",
       "      <th>Feature name</th>\n",
       "      <th></th>\n",
       "      <th></th>\n",
       "      <th></th>\n",
       "      <th></th>\n",
       "    </tr>\n",
       "  </thead>\n",
       "  <tbody>\n",
       "    <tr>\n",
       "      <th>'pickup_community_area'</th>\n",
       "      <td>INT</td>\n",
       "      <td>required</td>\n",
       "      <td></td>\n",
       "      <td>-</td>\n",
       "    </tr>\n",
       "    <tr>\n",
       "      <th>'fare'</th>\n",
       "      <td>FLOAT</td>\n",
       "      <td>required</td>\n",
       "      <td></td>\n",
       "      <td>-</td>\n",
       "    </tr>\n",
       "    <tr>\n",
       "      <th>'trip_start_month'</th>\n",
       "      <td>INT</td>\n",
       "      <td>required</td>\n",
       "      <td></td>\n",
       "      <td>-</td>\n",
       "    </tr>\n",
       "    <tr>\n",
       "      <th>'trip_start_hour'</th>\n",
       "      <td>INT</td>\n",
       "      <td>required</td>\n",
       "      <td></td>\n",
       "      <td>-</td>\n",
       "    </tr>\n",
       "    <tr>\n",
       "      <th>'trip_start_day'</th>\n",
       "      <td>INT</td>\n",
       "      <td>required</td>\n",
       "      <td></td>\n",
       "      <td>-</td>\n",
       "    </tr>\n",
       "    <tr>\n",
       "      <th>'trip_start_timestamp'</th>\n",
       "      <td>INT</td>\n",
       "      <td>required</td>\n",
       "      <td></td>\n",
       "      <td>-</td>\n",
       "    </tr>\n",
       "    <tr>\n",
       "      <th>'pickup_latitude'</th>\n",
       "      <td>FLOAT</td>\n",
       "      <td>required</td>\n",
       "      <td></td>\n",
       "      <td>-</td>\n",
       "    </tr>\n",
       "    <tr>\n",
       "      <th>'pickup_longitude'</th>\n",
       "      <td>FLOAT</td>\n",
       "      <td>required</td>\n",
       "      <td></td>\n",
       "      <td>-</td>\n",
       "    </tr>\n",
       "    <tr>\n",
       "      <th>'dropoff_latitude'</th>\n",
       "      <td>FLOAT</td>\n",
       "      <td>optional</td>\n",
       "      <td>single</td>\n",
       "      <td>-</td>\n",
       "    </tr>\n",
       "    <tr>\n",
       "      <th>'dropoff_longitude'</th>\n",
       "      <td>FLOAT</td>\n",
       "      <td>optional</td>\n",
       "      <td>single</td>\n",
       "      <td>-</td>\n",
       "    </tr>\n",
       "    <tr>\n",
       "      <th>'trip_miles'</th>\n",
       "      <td>FLOAT</td>\n",
       "      <td>required</td>\n",
       "      <td></td>\n",
       "      <td>-</td>\n",
       "    </tr>\n",
       "    <tr>\n",
       "      <th>'pickup_census_tract'</th>\n",
       "      <td>FLOAT</td>\n",
       "      <td>optional</td>\n",
       "      <td></td>\n",
       "      <td>-</td>\n",
       "    </tr>\n",
       "    <tr>\n",
       "      <th>'dropoff_census_tract'</th>\n",
       "      <td>FLOAT</td>\n",
       "      <td>optional</td>\n",
       "      <td>single</td>\n",
       "      <td>-</td>\n",
       "    </tr>\n",
       "    <tr>\n",
       "      <th>'payment_type'</th>\n",
       "      <td>STRING</td>\n",
       "      <td>required</td>\n",
       "      <td></td>\n",
       "      <td>'payment_type'</td>\n",
       "    </tr>\n",
       "    <tr>\n",
       "      <th>'company'</th>\n",
       "      <td>STRING</td>\n",
       "      <td>optional</td>\n",
       "      <td>single</td>\n",
       "      <td>'company'</td>\n",
       "    </tr>\n",
       "    <tr>\n",
       "      <th>'trip_seconds'</th>\n",
       "      <td>INT</td>\n",
       "      <td>required</td>\n",
       "      <td></td>\n",
       "      <td>-</td>\n",
       "    </tr>\n",
       "    <tr>\n",
       "      <th>'dropoff_community_area'</th>\n",
       "      <td>FLOAT</td>\n",
       "      <td>optional</td>\n",
       "      <td>single</td>\n",
       "      <td>-</td>\n",
       "    </tr>\n",
       "    <tr>\n",
       "      <th>'tips'</th>\n",
       "      <td>FLOAT</td>\n",
       "      <td>required</td>\n",
       "      <td></td>\n",
       "      <td>-</td>\n",
       "    </tr>\n",
       "  </tbody>\n",
       "</table>\n",
       "</div>"
      ],
      "text/plain": [
       "                            Type  Presence Valency          Domain\n",
       "Feature name                                                      \n",
       "'pickup_community_area'      INT  required                       -\n",
       "'fare'                     FLOAT  required                       -\n",
       "'trip_start_month'           INT  required                       -\n",
       "'trip_start_hour'            INT  required                       -\n",
       "'trip_start_day'             INT  required                       -\n",
       "'trip_start_timestamp'       INT  required                       -\n",
       "'pickup_latitude'          FLOAT  required                       -\n",
       "'pickup_longitude'         FLOAT  required                       -\n",
       "'dropoff_latitude'         FLOAT  optional  single               -\n",
       "'dropoff_longitude'        FLOAT  optional  single               -\n",
       "'trip_miles'               FLOAT  required                       -\n",
       "'pickup_census_tract'      FLOAT  optional                       -\n",
       "'dropoff_census_tract'     FLOAT  optional  single               -\n",
       "'payment_type'            STRING  required          'payment_type'\n",
       "'company'                 STRING  optional  single       'company'\n",
       "'trip_seconds'               INT  required                       -\n",
       "'dropoff_community_area'   FLOAT  optional  single               -\n",
       "'tips'                     FLOAT  required                       -"
      ]
     },
     "metadata": {},
     "output_type": "display_data"
    },
    {
     "data": {
      "text/html": [
       "<div>\n",
       "<style scoped>\n",
       "    .dataframe tbody tr th:only-of-type {\n",
       "        vertical-align: middle;\n",
       "    }\n",
       "\n",
       "    .dataframe tbody tr th {\n",
       "        vertical-align: top;\n",
       "    }\n",
       "\n",
       "    .dataframe thead th {\n",
       "        text-align: right;\n",
       "    }\n",
       "</style>\n",
       "<table border=\"1\" class=\"dataframe\">\n",
       "  <thead>\n",
       "    <tr style=\"text-align: right;\">\n",
       "      <th></th>\n",
       "      <th>Values</th>\n",
       "    </tr>\n",
       "    <tr>\n",
       "      <th>Domain</th>\n",
       "      <th></th>\n",
       "    </tr>\n",
       "  </thead>\n",
       "  <tbody>\n",
       "    <tr>\n",
       "      <th>'payment_type'</th>\n",
       "      <td>'Cash', 'Credit Card', 'Dispute', 'No Charge', 'Pcard', 'Unknown'</td>\n",
       "    </tr>\n",
       "    <tr>\n",
       "      <th>'company'</th>\n",
       "      <td>'0118 - 42111 Godfrey S.Awir', '0694 - 59280 Chinesco Trans Inc', '1085 - 72312 N and W Cab Co', '2733 - 74600 Benny Jona', '2809 - 95474 C &amp; D Cab Co Inc.', '3011 - 66308 JBL Cab Inc.', '3152 - 97284 Crystal Abernathy', '3201 - C&amp;D Cab Co Inc', '3201 - CID Cab Co Inc', '3253 - 91138 Gaither Cab Co.', '3385 - 23210 Eman Cab', '3623 - 72222 Arrington Enterprises', '3897 - Ilie Malec', '4053 - Adwar H. Nikola', '4197 - 41842 Royal Star', '4615 - 83503 Tyrone Henderson', '4615 - Tyrone Henderson', '4623 - Jay Kim', '5006 - 39261 Salifu Bawa', '5006 - Salifu Bawa', '5074 - 54002 Ahzmi Inc', '5074 - Ahzmi Inc', '5129 - 87128', '5129 - 98755 Mengisti Taxi', '5129 - Mengisti Taxi', '5724 - KYVI Cab Inc', '585 - Valley Cab Co', '5864 - 73614 Thomas Owusu', '5864 - Thomas Owusu', '5874 - 73628 Sergey Cab Corp.', '5997 - 65283 AW Services Inc.', '5997 - AW Services Inc.', '6488 - 83287 Zuha Taxi', '6743 - Luhak Corp', 'Blue Ribbon Taxi Association Inc.', 'C &amp; D Cab Co Inc', 'Chicago Elite Cab Corp.', 'Chicago Elite Cab Corp. (Chicago Carriag', 'Chicago Medallion Leasing INC', 'Chicago Medallion Management', 'Choice Taxi Association', 'Dispatch Taxi Affiliation', 'KOAM Taxi Association', 'Northwest Management LLC', 'Taxi Affiliation Services', 'Top Cab Affiliation'</td>\n",
       "    </tr>\n",
       "  </tbody>\n",
       "</table>\n",
       "</div>"
      ],
      "text/plain": [
       "                                                                                                                                                                                                                                                                                                                                                                                                                                                                                                                                                                                                                                                                                                                                                                                                                                                                                                                                                                                                                                                                                                                                                                                                                                                                                                                                    Values\n",
       "Domain                                                                                                                                                                                                                                                                                                                                                                                                                                                                                                                                                                                                                                                                                                                                                                                                                                                                                                                                                                                                                                                                                                                                                                                                                                                                                                                                    \n",
       "'payment_type'                                                                                                                                                                                                                                                                                                                                                                                                                                                                                                                                                                                                                                                                                                                                                                                                                                                                                                                                                                                                                                                                                                                                                                                                                                                           'Cash', 'Credit Card', 'Dispute', 'No Charge', 'Pcard', 'Unknown'\n",
       "'company'       '0118 - 42111 Godfrey S.Awir', '0694 - 59280 Chinesco Trans Inc', '1085 - 72312 N and W Cab Co', '2733 - 74600 Benny Jona', '2809 - 95474 C & D Cab Co Inc.', '3011 - 66308 JBL Cab Inc.', '3152 - 97284 Crystal Abernathy', '3201 - C&D Cab Co Inc', '3201 - CID Cab Co Inc', '3253 - 91138 Gaither Cab Co.', '3385 - 23210 Eman Cab', '3623 - 72222 Arrington Enterprises', '3897 - Ilie Malec', '4053 - Adwar H. Nikola', '4197 - 41842 Royal Star', '4615 - 83503 Tyrone Henderson', '4615 - Tyrone Henderson', '4623 - Jay Kim', '5006 - 39261 Salifu Bawa', '5006 - Salifu Bawa', '5074 - 54002 Ahzmi Inc', '5074 - Ahzmi Inc', '5129 - 87128', '5129 - 98755 Mengisti Taxi', '5129 - Mengisti Taxi', '5724 - KYVI Cab Inc', '585 - Valley Cab Co', '5864 - 73614 Thomas Owusu', '5864 - Thomas Owusu', '5874 - 73628 Sergey Cab Corp.', '5997 - 65283 AW Services Inc.', '5997 - AW Services Inc.', '6488 - 83287 Zuha Taxi', '6743 - Luhak Corp', 'Blue Ribbon Taxi Association Inc.', 'C & D Cab Co Inc', 'Chicago Elite Cab Corp.', 'Chicago Elite Cab Corp. (Chicago Carriag', 'Chicago Medallion Leasing INC', 'Chicago Medallion Management', 'Choice Taxi Association', 'Dispatch Taxi Affiliation', 'KOAM Taxi Association', 'Northwest Management LLC', 'Taxi Affiliation Services', 'Top Cab Affiliation'"
      ]
     },
     "metadata": {},
     "output_type": "display_data"
    }
   ],
   "source": [
    "# Infers schema from the input statistics.\n",
    "schema = tfdv.infer_schema(stats)\n",
    "tfdv.display_schema(schema=schema)"
   ]
  },
  {
   "cell_type": "markdown",
   "metadata": {
    "id": "ZVa3EXE8WEDE"
   },
   "source": [
    "## Check evaluation data for errors\n",
    "\n",
    "So far we've only been looking at the training data.  It's important that our evaluation data is consistent with our training data, including that it uses the same schema.  It's also important that the evaluation data includes examples of roughly the same ranges of values for our numerical features as our training data, so that our coverage of the loss surface during evaluation is roughly the same as during training.  The same is true for categorical features.  Otherwise, we may have training issues that are not identified during evaluation, because we didn't evaluate part of our loss surface.\n",
    "\n",
    "* Notice that each feature now includes statistics for both the training and evaluation datasets.\n",
    "* Notice that the charts now have both the training and evaluation datasets overlaid, making it easy to compare them.\n",
    "* Notice that the charts now include a percentages view, which can be combined with log or the default linear scales.\n",
    "* Notice that the mean and median for `trip_miles` are different for the training versus the evaluation datasets.  Will that cause problems?\n",
    "* Wow, the max `tips` is very different for the training versus the evaluation datasets.  Will that cause problems?\n",
    "* Click expand on the Numeric Features chart, and select the log scale.  Review the `trip_seconds` feature, and notice the difference in the max.  Will evaluation miss parts of the loss surface?"
   ]
  },
  {
   "cell_type": "code",
   "execution_count": 11,
   "metadata": {
    "id": "j_P0RLYlV6XG"
   },
   "outputs": [
    {
     "name": "stderr",
     "output_type": "stream",
     "text": [
      "WARNING:root:Make sure that locally built Python SDK docker image has Python 3.7 interpreter.\n"
     ]
    },
    {
     "data": {
      "text/html": [
       "<iframe id='facets-iframe' width=\"100%\" height=\"500px\"></iframe>\n",
       "        <script>\n",
       "        facets_iframe = document.getElementById('facets-iframe');\n",
       "        facets_html = '<script src=\"https://cdnjs.cloudflare.com/ajax/libs/webcomponentsjs/1.3.3/webcomponents-lite.js\"><\\/script><link rel=\"import\" href=\"https://raw.githubusercontent.com/PAIR-code/facets/master/facets-dist/facets-jupyter.html\"><facets-overview proto-input=\"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\"></facets-overview>';\n",
       "        facets_iframe.srcdoc = facets_html;\n",
       "         facets_iframe.id = \"\";\n",
       "         setTimeout(() => {\n",
       "           facets_iframe.setAttribute('height', facets_iframe.contentWindow.document.body.offsetHeight + 'px')\n",
       "         }, 1500)\n",
       "         </script>"
      ],
      "text/plain": [
       "<IPython.core.display.HTML object>"
      ]
     },
     "metadata": {},
     "output_type": "display_data"
    }
   ],
   "source": [
    "# Compute stats for evaluation data\n",
    "eval_stats = tfdv.generate_statistics_from_csv(data_location=EVAL_DATA)\n",
    "\n",
    "# Compare evaluation data with training data\n",
    "tfdv.visualize_statistics(lhs_statistics=eval_stats, rhs_statistics=stats,\n",
    "                          lhs_name='EVAL_DATASET', rhs_name='TRAIN_DATASET')"
   ]
  },
  {
   "cell_type": "markdown",
   "metadata": {
    "id": "ycRRa4leHp84"
   },
   "source": [
    "## Check for evaluation anomalies\n",
    "\n",
    "Does our evaluation dataset match the schema from our training dataset?  This is especially important for categorical features, where we want to identify the range of acceptable values.\n",
    "\n",
    "Key Point: What would happen if we tried to evaluate using data with categorical feature values that were not in our training dataset?  What about numeric features that are outside the ranges in our training dataset?"
   ]
  },
  {
   "cell_type": "code",
   "execution_count": 13,
   "metadata": {
    "id": "T7uGVeL2WOam"
   },
   "outputs": [
    {
     "data": {
      "text/html": [
       "<div>\n",
       "<style scoped>\n",
       "    .dataframe tbody tr th:only-of-type {\n",
       "        vertical-align: middle;\n",
       "    }\n",
       "\n",
       "    .dataframe tbody tr th {\n",
       "        vertical-align: top;\n",
       "    }\n",
       "\n",
       "    .dataframe thead th {\n",
       "        text-align: right;\n",
       "    }\n",
       "</style>\n",
       "<table border=\"1\" class=\"dataframe\">\n",
       "  <thead>\n",
       "    <tr style=\"text-align: right;\">\n",
       "      <th></th>\n",
       "      <th>Anomaly short description</th>\n",
       "      <th>Anomaly long description</th>\n",
       "    </tr>\n",
       "    <tr>\n",
       "      <th>Feature name</th>\n",
       "      <th></th>\n",
       "      <th></th>\n",
       "    </tr>\n",
       "  </thead>\n",
       "  <tbody>\n",
       "    <tr>\n",
       "      <th>'dropoff_community_area'</th>\n",
       "      <td>Expected data of type: FLOAT but got INT</td>\n",
       "      <td></td>\n",
       "    </tr>\n",
       "    <tr>\n",
       "      <th>'payment_type'</th>\n",
       "      <td>Unexpected string values</td>\n",
       "      <td>Examples contain values missing from the schema: Prcard (&lt;1%).</td>\n",
       "    </tr>\n",
       "    <tr>\n",
       "      <th>'company'</th>\n",
       "      <td>Unexpected string values</td>\n",
       "      <td>Examples contain values missing from the schema: 2092 - 61288 Sbeih company (&lt;1%), 2192 - 73487 Zeymane Corp (&lt;1%), 2192 - Zeymane Corp (&lt;1%), 2823 - 73307 Seung Lee (&lt;1%), 3094 - 24059 G.L.B. Cab Co (&lt;1%), 3319 - CD Cab Co (&lt;1%), 3385 - Eman Cab (&lt;1%), 3897 - 57856 Ilie Malec (&lt;1%), 4053 - 40193 Adwar H. Nikola (&lt;1%), 4197 - Royal Star (&lt;1%), 585 - 88805 Valley Cab Co (&lt;1%), 5874 - Sergey Cab Corp. (&lt;1%), 6057 - 24657 Richard Addo (&lt;1%), 6574 - Babylon Express Inc. (&lt;1%), 6742 - 83735 Tasha ride inc (&lt;1%).</td>\n",
       "    </tr>\n",
       "    <tr>\n",
       "      <th>'dropoff_census_tract'</th>\n",
       "      <td>Expected data of type: FLOAT but got INT</td>\n",
       "      <td></td>\n",
       "    </tr>\n",
       "  </tbody>\n",
       "</table>\n",
       "</div>"
      ],
      "text/plain": [
       "                                         Anomaly short description  \\\n",
       "Feature name                                                         \n",
       "'dropoff_community_area'  Expected data of type: FLOAT but got INT   \n",
       "'payment_type'                            Unexpected string values   \n",
       "'company'                                 Unexpected string values   \n",
       "'dropoff_census_tract'    Expected data of type: FLOAT but got INT   \n",
       "\n",
       "                                                                                                                                                                                                                                                                                                                                                                                                                                                                                                                                   Anomaly long description  \n",
       "Feature name                                                                                                                                                                                                                                                                                                                                                                                                                                                                                                                                                 \n",
       "'dropoff_community_area'                                                                                                                                                                                                                                                                                                                                                                                                                                                                                                                                     \n",
       "'payment_type'                                                                                                                                                                                                                                                                                                                                                                                                                                                                              Examples contain values missing from the schema: Prcard (<1%).   \n",
       "'company'                 Examples contain values missing from the schema: 2092 - 61288 Sbeih company (<1%), 2192 - 73487 Zeymane Corp (<1%), 2192 - Zeymane Corp (<1%), 2823 - 73307 Seung Lee (<1%), 3094 - 24059 G.L.B. Cab Co (<1%), 3319 - CD Cab Co (<1%), 3385 - Eman Cab (<1%), 3897 - 57856 Ilie Malec (<1%), 4053 - 40193 Adwar H. Nikola (<1%), 4197 - Royal Star (<1%), 585 - 88805 Valley Cab Co (<1%), 5874 - Sergey Cab Corp. (<1%), 6057 - 24657 Richard Addo (<1%), 6574 - Babylon Express Inc. (<1%), 6742 - 83735 Tasha ride inc (<1%).   \n",
       "'dropoff_census_tract'                                                                                                                                                                                                                                                                                                                                                                                                                                                                                                                                       "
      ]
     },
     "metadata": {},
     "output_type": "display_data"
    }
   ],
   "source": [
    "# Check eval data for errors by validating the eval data stats using the previously inferred schema.\n",
    "anomalies = tfdv.validate_statistics(statistics=eval_stats, schema=schema)\n",
    "tfdv.display_anomalies(anomalies)"
   ]
  },
  {
   "cell_type": "markdown",
   "metadata": {
    "id": "dzxx1gBpJIBa"
   },
   "source": [
    "## Fix evaluation anomalies in the schema\n",
    "\n",
    "Oops!  It looks like we have some new values for `company` in our evaluation data, that we didn't have in our training data.  We also have a new value for `payment_type`.  These should be considered anomalies, but what we decide to do about them depends on our domain knowledge of the data.  If an anomaly truly indicates a data error, then the underlying data should be fixed.  Otherwise, we can simply update the schema to include the values in the eval dataset.\n",
    "\n",
    "Key Point: How would our evaluation results be affected if we did not fix these problems?\n",
    "\n",
    "Unless we change our evaluation dataset we can't fix everything, but we can fix things in the schema that we're comfortable accepting.  That includes relaxing our view of what is and what is not an anomaly for particular features, as well as updating our schema to include missing values for categorical features.  TFDV has enabled us to discover what we need to fix.\n",
    "\n",
    "Let's make those fixes now, and then review one more time."
   ]
  },
  {
   "cell_type": "code",
   "execution_count": 15,
   "metadata": {
    "id": "legN2nXLWZAc"
   },
   "outputs": [
    {
     "data": {
      "text/html": [
       "<div>\n",
       "<style scoped>\n",
       "    .dataframe tbody tr th:only-of-type {\n",
       "        vertical-align: middle;\n",
       "    }\n",
       "\n",
       "    .dataframe tbody tr th {\n",
       "        vertical-align: top;\n",
       "    }\n",
       "\n",
       "    .dataframe thead th {\n",
       "        text-align: right;\n",
       "    }\n",
       "</style>\n",
       "<table border=\"1\" class=\"dataframe\">\n",
       "  <thead>\n",
       "    <tr style=\"text-align: right;\">\n",
       "      <th></th>\n",
       "      <th>Anomaly short description</th>\n",
       "      <th>Anomaly long description</th>\n",
       "    </tr>\n",
       "    <tr>\n",
       "      <th>Feature name</th>\n",
       "      <th></th>\n",
       "      <th></th>\n",
       "    </tr>\n",
       "  </thead>\n",
       "  <tbody>\n",
       "    <tr>\n",
       "      <th>'dropoff_community_area'</th>\n",
       "      <td>Expected data of type: FLOAT but got INT</td>\n",
       "      <td></td>\n",
       "    </tr>\n",
       "    <tr>\n",
       "      <th>'dropoff_census_tract'</th>\n",
       "      <td>Expected data of type: FLOAT but got INT</td>\n",
       "      <td></td>\n",
       "    </tr>\n",
       "  </tbody>\n",
       "</table>\n",
       "</div>"
      ],
      "text/plain": [
       "                                         Anomaly short description  \\\n",
       "Feature name                                                         \n",
       "'dropoff_community_area'  Expected data of type: FLOAT but got INT   \n",
       "'dropoff_census_tract'    Expected data of type: FLOAT but got INT   \n",
       "\n",
       "                         Anomaly long description  \n",
       "Feature name                                       \n",
       "'dropoff_community_area'                           \n",
       "'dropoff_census_tract'                             "
      ]
     },
     "metadata": {},
     "output_type": "display_data"
    }
   ],
   "source": [
    "# Relax the minimum fraction of values that must come from the domain for feature company.\n",
    "company = tfdv.get_feature(schema, 'company')\n",
    "company.distribution_constraints.min_domain_mass = 0.9\n",
    "\n",
    "# Add new value to the domain of feature payment_type.\n",
    "payment_type_domain = tfdv.get_domain(schema, 'payment_type')\n",
    "payment_type_domain.value.append('Prcard')\n",
    "\n",
    "# Validate eval stats after updating the schema \n",
    "# TODO\n",
    "updated_anomalies = tfdv.validate_statistics(eval_stats, schema)\n",
    "tfdv.display_anomalies(updated_anomalies)"
   ]
  },
  {
   "cell_type": "markdown",
   "metadata": {
    "id": "xNo72YP9LN98"
   },
   "source": [
    "Hey, look at that!  We verified that the training and evaluation data are now consistent!  Thanks TFDV ;)"
   ]
  },
  {
   "cell_type": "markdown",
   "metadata": {
    "id": "KZ1P4ucHJj5o"
   },
   "source": [
    "## Schema Environments"
   ]
  },
  {
   "cell_type": "markdown",
   "metadata": {
    "id": "qb179jczJppA"
   },
   "source": [
    "We also split off a 'serving' dataset for this example, so we should check that too.  By default all datasets in a pipeline should use the same schema, but there are often exceptions. For example, in supervised learning we need to include labels in our dataset, but when we serve the model for inference the labels will not be included. In some cases introducing slight schema variations is necessary.\n",
    "\n",
    "**Environments** can be used to express such requirements. In particular, features in schema can be associated with a set of environments using `default_environment`, `in_environment` and `not_in_environment`.\n",
    "\n",
    "For example, in this dataset the `tips` feature is included as the label for training, but it's missing in the serving data. Without environment specified, it will show up as an anomaly."
   ]
  },
  {
   "cell_type": "code",
   "execution_count": 16,
   "metadata": {
    "id": "wSZfbnifJuTA"
   },
   "outputs": [
    {
     "name": "stderr",
     "output_type": "stream",
     "text": [
      "WARNING:root:Make sure that locally built Python SDK docker image has Python 3.7 interpreter.\n"
     ]
    },
    {
     "data": {
      "text/html": [
       "<div>\n",
       "<style scoped>\n",
       "    .dataframe tbody tr th:only-of-type {\n",
       "        vertical-align: middle;\n",
       "    }\n",
       "\n",
       "    .dataframe tbody tr th {\n",
       "        vertical-align: top;\n",
       "    }\n",
       "\n",
       "    .dataframe thead th {\n",
       "        text-align: right;\n",
       "    }\n",
       "</style>\n",
       "<table border=\"1\" class=\"dataframe\">\n",
       "  <thead>\n",
       "    <tr style=\"text-align: right;\">\n",
       "      <th></th>\n",
       "      <th>Anomaly short description</th>\n",
       "      <th>Anomaly long description</th>\n",
       "    </tr>\n",
       "    <tr>\n",
       "      <th>Feature name</th>\n",
       "      <th></th>\n",
       "      <th></th>\n",
       "    </tr>\n",
       "  </thead>\n",
       "  <tbody>\n",
       "    <tr>\n",
       "      <th>'dropoff_community_area'</th>\n",
       "      <td>Expected data of type: FLOAT but got INT</td>\n",
       "      <td></td>\n",
       "    </tr>\n",
       "    <tr>\n",
       "      <th>'tips'</th>\n",
       "      <td>Column dropped</td>\n",
       "      <td>Column is completely missing</td>\n",
       "    </tr>\n",
       "    <tr>\n",
       "      <th>'dropoff_census_tract'</th>\n",
       "      <td>Expected data of type: FLOAT but got INT</td>\n",
       "      <td></td>\n",
       "    </tr>\n",
       "  </tbody>\n",
       "</table>\n",
       "</div>"
      ],
      "text/plain": [
       "                                         Anomaly short description  \\\n",
       "Feature name                                                         \n",
       "'dropoff_community_area'  Expected data of type: FLOAT but got INT   \n",
       "'tips'                                              Column dropped   \n",
       "'dropoff_census_tract'    Expected data of type: FLOAT but got INT   \n",
       "\n",
       "                              Anomaly long description  \n",
       "Feature name                                            \n",
       "'dropoff_community_area'                                \n",
       "'tips'                    Column is completely missing  \n",
       "'dropoff_census_tract'                                  "
      ]
     },
     "metadata": {},
     "output_type": "display_data"
    }
   ],
   "source": [
    "serving_stats = tfdv.generate_statistics_from_csv(SERVING_DATA)\n",
    "serving_anomalies = tfdv.validate_statistics(serving_stats, schema)\n",
    "\n",
    "tfdv.display_anomalies(serving_anomalies)"
   ]
  },
  {
   "cell_type": "markdown",
   "metadata": {
    "id": "FDYHvZ09LfkT"
   },
   "source": [
    "We'll deal with the `tips` feature below.  We also have an INT value in our trip seconds, where our schema expected a FLOAT. By making us aware of that difference, TFDV helps uncover inconsistencies in the way the data is generated for training and serving. It's very easy to be unaware of problems like that until model performance suffers, sometimes catastrophically. It may or may not be a significant issue, but in any case this should be cause for further investigation.\n",
    "\n",
    "In this case, we can safely convert INT values to FLOATs, so we want to tell TFDV to use our schema to infer the type.  Let's do that now."
   ]
  },
  {
   "cell_type": "code",
   "execution_count": 17,
   "metadata": {
    "id": "OhtYF8aAczpd"
   },
   "outputs": [
    {
     "name": "stderr",
     "output_type": "stream",
     "text": [
      "WARNING:root:Make sure that locally built Python SDK docker image has Python 3.7 interpreter.\n"
     ]
    },
    {
     "data": {
      "text/html": [
       "<div>\n",
       "<style scoped>\n",
       "    .dataframe tbody tr th:only-of-type {\n",
       "        vertical-align: middle;\n",
       "    }\n",
       "\n",
       "    .dataframe tbody tr th {\n",
       "        vertical-align: top;\n",
       "    }\n",
       "\n",
       "    .dataframe thead th {\n",
       "        text-align: right;\n",
       "    }\n",
       "</style>\n",
       "<table border=\"1\" class=\"dataframe\">\n",
       "  <thead>\n",
       "    <tr style=\"text-align: right;\">\n",
       "      <th></th>\n",
       "      <th>Anomaly short description</th>\n",
       "      <th>Anomaly long description</th>\n",
       "    </tr>\n",
       "    <tr>\n",
       "      <th>Feature name</th>\n",
       "      <th></th>\n",
       "      <th></th>\n",
       "    </tr>\n",
       "  </thead>\n",
       "  <tbody>\n",
       "    <tr>\n",
       "      <th>'tips'</th>\n",
       "      <td>Column dropped</td>\n",
       "      <td>Column is completely missing</td>\n",
       "    </tr>\n",
       "  </tbody>\n",
       "</table>\n",
       "</div>"
      ],
      "text/plain": [
       "             Anomaly short description      Anomaly long description\n",
       "Feature name                                                        \n",
       "'tips'                  Column dropped  Column is completely missing"
      ]
     },
     "metadata": {},
     "output_type": "display_data"
    }
   ],
   "source": [
    "options = tfdv.StatsOptions(schema=schema, infer_type_from_schema=True)\n",
    "serving_stats = tfdv.generate_statistics_from_csv(SERVING_DATA, stats_options=options)\n",
    "serving_anomalies = tfdv.validate_statistics(serving_stats, schema)\n",
    "\n",
    "tfdv.display_anomalies(serving_anomalies)"
   ]
  },
  {
   "cell_type": "markdown",
   "metadata": {
    "id": "bJjh5rigc5xy"
   },
   "source": [
    "Now we just have the `tips` feature (which is our label) showing up as an anomaly ('Column dropped').  Of course we don't expect to have labels in our serving data, so let's tell TFDV to ignore that."
   ]
  },
  {
   "cell_type": "code",
   "execution_count": 23,
   "metadata": {
    "id": "bnbnw8H6Lp2M"
   },
   "outputs": [
    {
     "data": {
      "text/html": [
       "<h4 style=\"color:green;\">No anomalies found.</h4>"
      ],
      "text/plain": [
       "<IPython.core.display.HTML object>"
      ]
     },
     "metadata": {},
     "output_type": "display_data"
    }
   ],
   "source": [
    "# All features are by default in both TRAINING and SERVING environments.\n",
    "schema.default_environment.append('TRAINING')\n",
    "schema.default_environment.append('SERVING')\n",
    "\n",
    "# Specify that 'tips' feature is not in SERVING environment.\n",
    "tfdv.get_feature(schema, 'tips').not_in_environment.append('SERVING')\n",
    "\n",
    "serving_anomalies_with_env = tfdv.validate_statistics(\n",
    "    serving_stats, schema, environment='SERVING')\n",
    "\n",
    "tfdv.display_anomalies(serving_anomalies_with_env)"
   ]
  },
  {
   "cell_type": "markdown",
   "metadata": {
    "id": "yteMr3AGMYEp"
   },
   "source": [
    "## Check for drift and skew"
   ]
  },
  {
   "cell_type": "markdown",
   "metadata": {
    "id": "8Ftd5k6AMkPV"
   },
   "source": [
    "In addition to checking whether a dataset conforms to the expectations set in the schema, TFDV also provides functionalities to detect drift and skew.  TFDV performs this check by comparing the statistics of the different datasets based on the drift/skew comparators specified in the schema.\n",
    "\n",
    "### Drift\n",
    "\n",
    "Drift detection is supported for categorical features and between consecutive spans of data (i.e., between span N and span N+1), such as between different days of training data.  We express drift in terms of [L-infinity distance](https://en.wikipedia.org/wiki/Chebyshev_distance), and you can set the threshold distance so that you receive warnings when the drift is higher than is acceptable.  Setting the correct distance is typically an iterative process requiring domain knowledge and experimentation."
   ]
  },
  {
   "cell_type": "markdown",
   "metadata": {
    "id": "eBFuLpXb6qSp"
   },
   "source": [
    "### Skew\n",
    "\n",
    "TFDV can detect three different kinds of skew in your data - schema skew, feature skew, and distribution skew.\n",
    "\n",
    "#### Schema Skew\n",
    "\n",
    "Schema skew occurs when the training and serving data do not conform to the same schema. Both training and serving data are expected to adhere to the same schema. Any expected deviations between the two (such as the label feature being only present in the training data but not in serving) should be specified through environments field in the schema.\n",
    "\n",
    "#### Feature Skew\n",
    "\n",
    "Feature skew occurs when the feature values that a model trains on are different from the feature values that it sees at serving time. For example, this can happen when:\n",
    "\n",
    "* A data source that provides some feature values is modified between training and serving time\n",
    "* There is different logic for generating features between training and serving. For example, if you apply some transformation only in one of the two code paths.\n",
    "\n",
    "#### Distribution Skew\n",
    "\n",
    "Distribution skew occurs when the distribution of the training dataset is significantly different from the distribution of the serving dataset. One of the key causes for distribution skew is using different code or different data sources to generate the training dataset. Another reason is a faulty sampling mechanism that chooses a non-representative subsample of the serving data to train on."
   ]
  },
  {
   "cell_type": "code",
   "execution_count": 27,
   "metadata": {
    "id": "wEUsZm_rOd1Q"
   },
   "outputs": [
    {
     "data": {
      "text/html": [
       "<div>\n",
       "<style scoped>\n",
       "    .dataframe tbody tr th:only-of-type {\n",
       "        vertical-align: middle;\n",
       "    }\n",
       "\n",
       "    .dataframe tbody tr th {\n",
       "        vertical-align: top;\n",
       "    }\n",
       "\n",
       "    .dataframe thead th {\n",
       "        text-align: right;\n",
       "    }\n",
       "</style>\n",
       "<table border=\"1\" class=\"dataframe\">\n",
       "  <thead>\n",
       "    <tr style=\"text-align: right;\">\n",
       "      <th></th>\n",
       "      <th>Anomaly short description</th>\n",
       "      <th>Anomaly long description</th>\n",
       "    </tr>\n",
       "    <tr>\n",
       "      <th>Feature name</th>\n",
       "      <th></th>\n",
       "      <th></th>\n",
       "    </tr>\n",
       "  </thead>\n",
       "  <tbody>\n",
       "    <tr>\n",
       "      <th>'company'</th>\n",
       "      <td>High Linfty distance between current and previous</td>\n",
       "      <td>The Linfty distance between current and previous is 0.00820891 (up to six significant digits), above the threshold 0.001. The feature value with maximum difference is: Blue Ribbon Taxi Association Inc.</td>\n",
       "    </tr>\n",
       "    <tr>\n",
       "      <th>'payment_type'</th>\n",
       "      <td>High Linfty distance between training and serving</td>\n",
       "      <td>The Linfty distance between training and serving is 0.0225 (up to six significant digits), above the threshold 0.01. The feature value with maximum difference is: Credit Card</td>\n",
       "    </tr>\n",
       "  </tbody>\n",
       "</table>\n",
       "</div>"
      ],
      "text/plain": [
       "                                        Anomaly short description  \\\n",
       "Feature name                                                        \n",
       "'company'       High Linfty distance between current and previous   \n",
       "'payment_type'  High Linfty distance between training and serving   \n",
       "\n",
       "                                                                                                                                                                                                 Anomaly long description  \n",
       "Feature name                                                                                                                                                                                                               \n",
       "'company'       The Linfty distance between current and previous is 0.00820891 (up to six significant digits), above the threshold 0.001. The feature value with maximum difference is: Blue Ribbon Taxi Association Inc.  \n",
       "'payment_type'                             The Linfty distance between training and serving is 0.0225 (up to six significant digits), above the threshold 0.01. The feature value with maximum difference is: Credit Card  "
      ]
     },
     "metadata": {},
     "output_type": "display_data"
    }
   ],
   "source": [
    "# Add skew comparator for 'payment_type' feature.\n",
    "payment_type = tfdv.get_feature(schema, 'payment_type')\n",
    "payment_type.skew_comparator.infinity_norm.threshold = 0.01\n",
    "\n",
    "# Add drift comparator for 'company' feature.\n",
    "company=tfdv.get_feature(schema, 'company')\n",
    "company.drift_comparator.infinity_norm.threshold = 0.001\n",
    "\n",
    "skew_anomalies = tfdv.validate_statistics(stats, schema,\n",
    "                                          previous_statistics=eval_stats,\n",
    "                                          serving_statistics=serving_stats)\n",
    "tfdv.display_anomalies(skew_anomalies)"
   ]
  },
  {
   "cell_type": "markdown",
   "metadata": {
    "id": "1GzbbsPgf0Bg"
   },
   "source": [
    "In this example we do see some drift, but it is well below the threshold that we've set."
   ]
  },
  {
   "cell_type": "markdown",
   "metadata": {
    "id": "wJ5saC9eWvHx"
   },
   "source": [
    "## Freeze the schema\n",
    "\n",
    "Now that the schema has been reviewed and curated, we will store it in a file to reflect its \"frozen\" state."
   ]
  },
  {
   "cell_type": "code",
   "execution_count": 28,
   "metadata": {
    "id": "ydkL4DkIWn18"
   },
   "outputs": [
    {
     "name": "stdout",
     "output_type": "stream",
     "text": [
      "feature {\n",
      "  name: \"pickup_community_area\"\n",
      "  type: INT\n",
      "  presence {\n",
      "    min_fraction: 1.0\n",
      "    min_count: 1\n",
      "  }\n",
      "  shape {\n",
      "    dim {\n",
      "      size: 1\n",
      "    }\n",
      "  }\n",
      "}\n",
      "feature {\n",
      "  name: \"fare\"\n",
      "  type: FLOAT\n",
      "  presence {\n",
      "    min_fraction: 1.0\n",
      "    min_count: 1\n",
      "  }\n",
      "  shape {\n",
      "    dim {\n",
      "      size: 1\n",
      "    }\n",
      "  }\n",
      "}\n",
      "feature {\n",
      "  name: \"trip_start_month\"\n",
      "  type: INT\n",
      "  presence {\n",
      "    min_fraction: 1.0\n",
      "    min_count: 1\n",
      "  }\n",
      "  shape {\n",
      "    dim {\n",
      "      size: 1\n",
      "    }\n",
      "  }\n",
      "}\n",
      "feature {\n",
      "  name: \"trip_start_hour\"\n",
      "  type: INT\n",
      "  presence {\n",
      "    min_fraction: 1.0\n",
      "    min_count: 1\n",
      "  }\n",
      "  shape {\n",
      "    dim {\n",
      "      size: 1\n",
      "    }\n",
      "  }\n",
      "}\n",
      "feature {\n",
      "  name: \"trip_start_day\"\n",
      "  type: INT\n",
      "  presence {\n",
      "    min_fraction: 1.0\n",
      "    min_count: 1\n",
      "  }\n",
      "  shape {\n",
      "    dim {\n",
      "      size: 1\n",
      "    }\n",
      "  }\n",
      "}\n",
      "feature {\n",
      "  name: \"trip_start_timestamp\"\n",
      "  type: INT\n",
      "  presence {\n",
      "    min_fraction: 1.0\n",
      "    min_count: 1\n",
      "  }\n",
      "  shape {\n",
      "    dim {\n",
      "      size: 1\n",
      "    }\n",
      "  }\n",
      "}\n",
      "feature {\n",
      "  name: \"pickup_latitude\"\n",
      "  type: FLOAT\n",
      "  presence {\n",
      "    min_fraction: 1.0\n",
      "    min_count: 1\n",
      "  }\n",
      "  shape {\n",
      "    dim {\n",
      "      size: 1\n",
      "    }\n",
      "  }\n",
      "}\n",
      "feature {\n",
      "  name: \"pickup_longitude\"\n",
      "  type: FLOAT\n",
      "  presence {\n",
      "    min_fraction: 1.0\n",
      "    min_count: 1\n",
      "  }\n",
      "  shape {\n",
      "    dim {\n",
      "      size: 1\n",
      "    }\n",
      "  }\n",
      "}\n",
      "feature {\n",
      "  name: \"dropoff_latitude\"\n",
      "  value_count {\n",
      "    min: 1\n",
      "    max: 1\n",
      "  }\n",
      "  type: FLOAT\n",
      "  presence {\n",
      "    min_count: 1\n",
      "  }\n",
      "}\n",
      "feature {\n",
      "  name: \"dropoff_longitude\"\n",
      "  value_count {\n",
      "    min: 1\n",
      "    max: 1\n",
      "  }\n",
      "  type: FLOAT\n",
      "  presence {\n",
      "    min_count: 1\n",
      "  }\n",
      "}\n",
      "feature {\n",
      "  name: \"trip_miles\"\n",
      "  type: FLOAT\n",
      "  presence {\n",
      "    min_fraction: 1.0\n",
      "    min_count: 1\n",
      "  }\n",
      "  shape {\n",
      "    dim {\n",
      "      size: 1\n",
      "    }\n",
      "  }\n",
      "}\n",
      "feature {\n",
      "  name: \"pickup_census_tract\"\n",
      "  type: FLOAT\n",
      "  presence {\n",
      "    min_count: 0\n",
      "  }\n",
      "}\n",
      "feature {\n",
      "  name: \"dropoff_census_tract\"\n",
      "  value_count {\n",
      "    min: 1\n",
      "    max: 1\n",
      "  }\n",
      "  type: FLOAT\n",
      "  presence {\n",
      "    min_count: 1\n",
      "  }\n",
      "}\n",
      "feature {\n",
      "  name: \"payment_type\"\n",
      "  type: BYTES\n",
      "  domain: \"payment_type\"\n",
      "  presence {\n",
      "    min_fraction: 1.0\n",
      "    min_count: 1\n",
      "  }\n",
      "  skew_comparator {\n",
      "    infinity_norm {\n",
      "      threshold: 0.01\n",
      "    }\n",
      "  }\n",
      "  shape {\n",
      "    dim {\n",
      "      size: 1\n",
      "    }\n",
      "  }\n",
      "}\n",
      "feature {\n",
      "  name: \"company\"\n",
      "  value_count {\n",
      "    min: 1\n",
      "    max: 1\n",
      "  }\n",
      "  type: BYTES\n",
      "  domain: \"company\"\n",
      "  presence {\n",
      "    min_count: 1\n",
      "  }\n",
      "  distribution_constraints {\n",
      "    min_domain_mass: 0.9\n",
      "  }\n",
      "  drift_comparator {\n",
      "    infinity_norm {\n",
      "      threshold: 0.001\n",
      "    }\n",
      "  }\n",
      "}\n",
      "feature {\n",
      "  name: \"trip_seconds\"\n",
      "  type: INT\n",
      "  presence {\n",
      "    min_fraction: 1.0\n",
      "    min_count: 1\n",
      "  }\n",
      "  shape {\n",
      "    dim {\n",
      "      size: 1\n",
      "    }\n",
      "  }\n",
      "}\n",
      "feature {\n",
      "  name: \"dropoff_community_area\"\n",
      "  value_count {\n",
      "    min: 1\n",
      "    max: 1\n",
      "  }\n",
      "  type: FLOAT\n",
      "  presence {\n",
      "    min_count: 1\n",
      "  }\n",
      "}\n",
      "feature {\n",
      "  name: \"tips\"\n",
      "  type: FLOAT\n",
      "  presence {\n",
      "    min_fraction: 1.0\n",
      "    min_count: 1\n",
      "  }\n",
      "  not_in_environment: \"SERVING\"\n",
      "  not_in_environment: \"SERVING\"\n",
      "  shape {\n",
      "    dim {\n",
      "      size: 1\n",
      "    }\n",
      "  }\n",
      "}\n",
      "string_domain {\n",
      "  name: \"payment_type\"\n",
      "  value: \"Cash\"\n",
      "  value: \"Credit Card\"\n",
      "  value: \"Dispute\"\n",
      "  value: \"No Charge\"\n",
      "  value: \"Pcard\"\n",
      "  value: \"Unknown\"\n",
      "  value: \"Prcard\"\n",
      "  value: \"Prcard\"\n",
      "}\n",
      "string_domain {\n",
      "  name: \"company\"\n",
      "  value: \"0118 - 42111 Godfrey S.Awir\"\n",
      "  value: \"0694 - 59280 Chinesco Trans Inc\"\n",
      "  value: \"1085 - 72312 N and W Cab Co\"\n",
      "  value: \"2733 - 74600 Benny Jona\"\n",
      "  value: \"2809 - 95474 C & D Cab Co Inc.\"\n",
      "  value: \"3011 - 66308 JBL Cab Inc.\"\n",
      "  value: \"3152 - 97284 Crystal Abernathy\"\n",
      "  value: \"3201 - C&D Cab Co Inc\"\n",
      "  value: \"3201 - CID Cab Co Inc\"\n",
      "  value: \"3253 - 91138 Gaither Cab Co.\"\n",
      "  value: \"3385 - 23210 Eman Cab\"\n",
      "  value: \"3623 - 72222 Arrington Enterprises\"\n",
      "  value: \"3897 - Ilie Malec\"\n",
      "  value: \"4053 - Adwar H. Nikola\"\n",
      "  value: \"4197 - 41842 Royal Star\"\n",
      "  value: \"4615 - 83503 Tyrone Henderson\"\n",
      "  value: \"4615 - Tyrone Henderson\"\n",
      "  value: \"4623 - Jay Kim\"\n",
      "  value: \"5006 - 39261 Salifu Bawa\"\n",
      "  value: \"5006 - Salifu Bawa\"\n",
      "  value: \"5074 - 54002 Ahzmi Inc\"\n",
      "  value: \"5074 - Ahzmi Inc\"\n",
      "  value: \"5129 - 87128\"\n",
      "  value: \"5129 - 98755 Mengisti Taxi\"\n",
      "  value: \"5129 - Mengisti Taxi\"\n",
      "  value: \"5724 - KYVI Cab Inc\"\n",
      "  value: \"585 - Valley Cab Co\"\n",
      "  value: \"5864 - 73614 Thomas Owusu\"\n",
      "  value: \"5864 - Thomas Owusu\"\n",
      "  value: \"5874 - 73628 Sergey Cab Corp.\"\n",
      "  value: \"5997 - 65283 AW Services Inc.\"\n",
      "  value: \"5997 - AW Services Inc.\"\n",
      "  value: \"6488 - 83287 Zuha Taxi\"\n",
      "  value: \"6743 - Luhak Corp\"\n",
      "  value: \"Blue Ribbon Taxi Association Inc.\"\n",
      "  value: \"C & D Cab Co Inc\"\n",
      "  value: \"Chicago Elite Cab Corp.\"\n",
      "  value: \"Chicago Elite Cab Corp. (Chicago Carriag\"\n",
      "  value: \"Chicago Medallion Leasing INC\"\n",
      "  value: \"Chicago Medallion Management\"\n",
      "  value: \"Choice Taxi Association\"\n",
      "  value: \"Dispatch Taxi Affiliation\"\n",
      "  value: \"KOAM Taxi Association\"\n",
      "  value: \"Northwest Management LLC\"\n",
      "  value: \"Taxi Affiliation Services\"\n",
      "  value: \"Top Cab Affiliation\"\n",
      "}\n",
      "default_environment: \"TRAINING\"\n",
      "default_environment: \"SERVING\"\n",
      "default_environment: \"TRAINING\"\n",
      "default_environment: \"SERVING\"\n"
     ]
    }
   ],
   "source": [
    "from tensorflow.python.lib.io import file_io\n",
    "from google.protobuf import text_format\n",
    "\n",
    "file_io.recursive_create_dir(OUTPUT_DIR)\n",
    "schema_file = os.path.join(OUTPUT_DIR, 'schema.pbtxt')\n",
    "tfdv.write_schema_text(schema, schema_file)\n",
    "\n",
    "!cat {schema_file}"
   ]
  },
  {
   "cell_type": "markdown",
   "metadata": {
    "id": "b8eC59yISdGB"
   },
   "source": [
    "## When to use TFDV\n",
    "\n",
    "It's easy to think of TFDV as only applying to the start of your training pipeline, as we did here, but in fact it has many uses.  Here are a few more:\n",
    "\n",
    "* Validating new data for inference to make sure that we haven't suddenly started receiving bad features\n",
    "* Validating new data for inference to make sure that our model has trained on that part of the decision surface\n",
    "* Validating our data after we've transformed it and done feature engineering (probably using [TensorFlow Transform](https://www.tensorflow.org/tfx/guide/transform)) to make sure we haven't done something wrong"
   ]
  }
 ],
 "metadata": {
  "colab": {
   "collapsed_sections": [
    "tghWegsjhpkt"
   ],
   "name": "tfdv_basic.ipynb",
   "private_outputs": true,
   "provenance": [],
   "toc_visible": true
  },
  "environment": {
   "kernel": "python3",
   "name": "tf2-gpu.2-6.m91",
   "type": "gcloud",
   "uri": "gcr.io/deeplearning-platform-release/tf2-gpu.2-6:m91"
  },
  "kernelspec": {
   "display_name": "Python 3",
   "language": "python",
   "name": "python3"
  },
  "language_info": {
   "codemirror_mode": {
    "name": "ipython",
    "version": 3
   },
   "file_extension": ".py",
   "mimetype": "text/x-python",
   "name": "python",
   "nbconvert_exporter": "python",
   "pygments_lexer": "ipython3",
   "version": "3.7.12"
  }
 },
 "nbformat": 4,
 "nbformat_minor": 4
}
